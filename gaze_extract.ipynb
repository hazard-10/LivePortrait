{
 "cells": [
  {
   "cell_type": "code",
   "execution_count": null,
   "metadata": {},
   "outputs": [],
   "source": [
    "from l2cs import Pipeline, render\n",
    "import cv2\n",
    "import os\n",
    "import torch"
   ]
  },
  {
   "cell_type": "code",
   "execution_count": null,
   "metadata": {},
   "outputs": [],
   "source": [
    "gaze_pipeline = Pipeline(\n",
    "    weights='/mnt/c/Users/mjh/Downloads/L2CSNet_gaze360.pkl',\n",
    "    arch='ResNet50',\n",
    "    device=torch.device('cpu') # or 'gpu'\n",
    ")\n",
    "\n",
    "# vid_parent_dir = '/mnt/e/wsl_projects/LivePortrait/sync_output/2024-12-04-17-19_norm_no_vel_ep_60/cfg_0.65_mouth_0.25_subtract_False'\n",
    "vid_parent_dir = '/mnt/e/data/diffposetalk_data/TFHP_raw/crop/TH_00192'\n",
    "# vid_path = os.path.join(vid_parent_dir, 'audio_i8.wav_img_t4.jpg.mp4')\n",
    "vid_path = os.path.join(vid_parent_dir, '000.mp4')\n",
    "print(f\"vid exists: {os.path.exists(vid_path)}\")\n",
    "cap = cv2.VideoCapture(vid_path)\n",
    "_, frame = cap.read()"
   ]
  },
  {
   "cell_type": "code",
   "execution_count": null,
   "metadata": {},
   "outputs": [],
   "source": [
    "frame.shape"
   ]
  },
  {
   "cell_type": "code",
   "execution_count": null,
   "metadata": {},
   "outputs": [],
   "source": [
    "# Process frame and visualize\n",
    "results = gaze_pipeline.step(frame)\n",
    "frame = render(frame, results)"
   ]
  },
  {
   "cell_type": "code",
   "execution_count": null,
   "metadata": {},
   "outputs": [],
   "source": [
    "# Import additional libraries for plotting\n",
    "import matplotlib.pyplot as plt\n",
    "import numpy as np\n",
    "from tqdm import tqdm\n",
    "\n",
    "# Lists to store pitch and yaw values\n",
    "pitch_values = []\n",
    "yaw_values = []\n",
    "frame_numbers = []\n",
    "\n",
    "# Reset video capture to start\n",
    "cap.set(cv2.CAP_PROP_POS_FRAMES, 0)\n",
    "frame_count = 0\n",
    "total_frames = int(cap.get(cv2.CAP_PROP_FRAME_COUNT))\n",
    "# Read all frames\n",
    "for _ in tqdm(range(total_frames)):\n",
    "    ret, frame = cap.read()\n",
    "    if not ret:\n",
    "        break\n",
    "\n",
    "    # Process frame\n",
    "    results = gaze_pipeline.step(frame)\n",
    "\n",
    "    # Store results\n",
    "    pitch_values.append(results.pitch[0])\n",
    "    yaw_values.append(results.yaw[0])\n",
    "    frame_numbers.append(frame_count)\n",
    "    frame_count += 1\n",
    "\n",
    "# Create two subplots\n",
    "fig, (ax1, ax2) = plt.subplots(2, 1, figsize=(12, 8))\n",
    "\n",
    "# Plot pitch\n",
    "ax1.plot(frame_numbers, pitch_values, 'b-')\n",
    "ax1.set_title('Pitch over Time')\n",
    "ax1.set_xlabel('Frame Number')\n",
    "ax1.set_ylabel('Pitch (radians)')\n",
    "ax1.grid(True)\n",
    "\n",
    "# Plot yaw\n",
    "ax2.plot(frame_numbers, yaw_values, 'r-')\n",
    "ax2.set_title('Yaw over Time')\n",
    "ax2.set_xlabel('Frame Number')\n",
    "ax2.set_ylabel('Yaw (radians)')\n",
    "ax2.grid(True)\n",
    "\n",
    "plt.tight_layout()\n",
    "plt.show()\n",
    "\n",
    "# Don't forget to release the video capture\n",
    "cap.release()"
   ]
  }
 ],
 "metadata": {
  "kernelspec": {
   "display_name": "vasa_env",
   "language": "python",
   "name": "python3"
  },
  "language_info": {
   "codemirror_mode": {
    "name": "ipython",
    "version": 3
   },
   "file_extension": ".py",
   "mimetype": "text/x-python",
   "name": "python",
   "nbconvert_exporter": "python",
   "pygments_lexer": "ipython3",
   "version": "3.10.13"
  }
 },
 "nbformat": 4,
 "nbformat_minor": 2
}
