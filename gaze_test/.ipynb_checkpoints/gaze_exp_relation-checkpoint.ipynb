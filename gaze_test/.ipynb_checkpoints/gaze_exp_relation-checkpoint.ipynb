{
 "cells": [
  {
   "cell_type": "code",
   "execution_count": null,
   "id": "3887a04d-89ff-4013-a017-8495efdcb6c0",
   "metadata": {},
   "outputs": [],
   "source": [
    "import pandas as pd\n",
    "import matplotlib.pyplot as plt\n",
    "\n",
    "# File paths\n",
    "pitch_file = \"degree_pitch_vs_exp_idx4.csv\"\n",
    "yaw_file = \"degree_yaw_vs_exp_idx33_45_48.csv\"\n",
    "\n",
    "# Read data from CSV files\n",
    "pitch_data = pd.read_csv(pitch_file)\n",
    "yaw_data = pd.read_csv(yaw_file)\n",
    "\n",
    "# Plot Degree Pitch vs exp_idx4\n",
    "plt.figure(figsize=(12, 6))\n",
    "plt.subplot(1, 2, 1)\n",
    "plt.plot(pitch_data[\"Degree Pitch\"], pitch_data[\"exp_idx4\"], label=\"exp_idx4\")\n",
    "plt.title(\"Degree Pitch vs exp_idx4\")\n",
    "plt.xlabel(\"Degree Pitch (degrees)\")\n",
    "plt.ylabel(\"exp_idx4\")\n",
    "plt.axhline(0, color=\"black\", linestyle=\"--\", linewidth=0.8)\n",
    "plt.axvline(0, color=\"black\", linestyle=\"--\", linewidth=0.8)\n",
    "plt.legend()\n",
    "\n",
    "# Plot Degree Yaw vs exp_idx33_45_48\n",
    "plt.subplot(1, 2, 2)\n",
    "plt.plot(yaw_data[\"Degree Yaw\"], yaw_data[\"exp_idx33_45_48\"], label=\"exp_idx33_45_48\", color=\"orange\")\n",
    "plt.title(\"Degree Yaw vs exp_idx33_45_48\")\n",
    "plt.xlabel(\"Degree Yaw (degrees)\")\n",
    "plt.ylabel(\"exp_idx33_45_48\")\n",
    "plt.axhline(0, color=\"black\", linestyle=\"--\", linewidth=0.8)\n",
    "plt.axvline(0, color=\"black\", linestyle=\"--\", linewidth=0.8)\n",
    "plt.legend()\n",
    "\n",
    "# Adjust layout and show plots\n",
    "plt.tight_layout()\n",
    "plt.show()\n"
   ]
  }
 ],
 "metadata": {
  "kernelspec": {
   "display_name": "Python (LivePortrait)",
   "language": "python",
   "name": "liveportrait"
  },
  "language_info": {
   "codemirror_mode": {
    "name": "ipython",
    "version": 3
   },
   "file_extension": ".py",
   "mimetype": "text/x-python",
   "name": "python",
   "nbconvert_exporter": "python",
   "pygments_lexer": "ipython3",
   "version": "3.10.13"
  }
 },
 "nbformat": 4,
 "nbformat_minor": 5
}
