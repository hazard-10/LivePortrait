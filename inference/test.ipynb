{
 "cells": [
  {
   "cell_type": "code",
   "execution_count": 1,
   "metadata": {},
   "outputs": [],
   "source": [
    "import os\n",
    "import os.path as osp\n",
    "import tyro\n",
    "import subprocess\n",
    "import sys"
   ]
  },
  {
   "cell_type": "code",
   "execution_count": 2,
   "metadata": {},
   "outputs": [],
   "source": [
    "current_dir = os.getcwd()\n",
    "parent_dir = os.path.abspath(os.path.join(current_dir, \"..\"))\n",
    "sys.path.append(parent_dir)"
   ]
  },
  {
   "cell_type": "code",
   "execution_count": 3,
   "metadata": {},
   "outputs": [],
   "source": [
    "from src.config.argument_config import ArgumentConfig\n",
    "from src.config.inference_config import InferenceConfig\n",
    "from src.config.crop_config import CropConfig\n",
    "from src.live_portrait_pipeline import LivePortraitPipeline"
   ]
  },
  {
   "cell_type": "code",
   "execution_count": 5,
   "metadata": {},
   "outputs": [],
   "source": [
    "def partial_fields(target_class, kwargs):\n",
    "    return target_class(**{k: v for k, v in kwargs.items() if hasattr(target_class, k)})\n",
    "\n",
    "\n",
    "def fast_check_ffmpeg():\n",
    "    try:\n",
    "        subprocess.run([\"ffmpeg\", \"-version\"], capture_output=True, check=True)\n",
    "        return True\n",
    "    except:\n",
    "        return False\n",
    "\n",
    "\n",
    "def fast_check_args(args: ArgumentConfig):\n",
    "    if not osp.exists(args.source):\n",
    "        raise FileNotFoundError(f\"source info not found: {args.source}\")\n",
    "    if not osp.exists(args.driving):\n",
    "        raise FileNotFoundError(f\"driving info not found: {args.driving}\")\n",
    "\n",
    "\n",
    "def main():\n",
    "    # set tyro theme\n",
    "    tyro.extras.set_accent_color(\"bright_cyan\")\n",
    "    args = tyro.cli(ArgumentConfig, return_unknown_args=True)\n",
    "\n",
    "    args = args[0]\n",
    "\n",
    "    ffmpeg_dir = os.path.join(os.getcwd(), \"ffmpeg\")\n",
    "    if osp.exists(ffmpeg_dir):\n",
    "        os.environ[\"PATH\"] += (os.pathsep + ffmpeg_dir)\n",
    "\n",
    "    if not fast_check_ffmpeg():\n",
    "        raise ImportError(\n",
    "            \"FFmpeg is not installed. Please install FFmpeg (including ffmpeg and ffprobe) before running this script. https://ffmpeg.org/download.html\"\n",
    "        )\n",
    "\n",
    "    fast_check_args(args)\n",
    "\n",
    "    # specify configs for inference\n",
    "    inference_cfg = partial_fields(InferenceConfig, args.__dict__)\n",
    "    crop_cfg = partial_fields(CropConfig, args.__dict__)\n",
    "\n",
    "    live_portrait_pipeline = LivePortraitPipeline(\n",
    "        inference_cfg=inference_cfg,\n",
    "        crop_cfg=crop_cfg\n",
    "    )\n",
    "\n",
    "    # run\n",
    "    live_portrait_pipeline.execute(args)"
   ]
  },
  {
   "cell_type": "code",
   "execution_count": 6,
   "metadata": {},
   "outputs": [
    {
     "data": {
      "text/html": [
       "<pre style=\"white-space:pre;overflow-x:auto;line-height:normal;font-family:Menlo,'DejaVu Sans Mono',consolas,'Courier New',monospace\"><span style=\"color: #7fbfbf; text-decoration-color: #7fbfbf\">[21:40:02] </span>Load appearance_feature_extractor done.                                      <a href=\"file://d:\\Projects\\Upenn_CIS_5650\\final-project\\LivePortrait\\src\\live_portrait_wrapper.py\" target=\"_blank\"><span style=\"color: #7f7f7f; text-decoration-color: #7f7f7f\">live_portrait_wrapper.py</span></a><span style=\"color: #7f7f7f; text-decoration-color: #7f7f7f\">:</span><a href=\"file://d:\\Projects\\Upenn_CIS_5650\\final-project\\LivePortrait\\src\\live_portrait_wrapper.py#40\" target=\"_blank\"><span style=\"color: #7f7f7f; text-decoration-color: #7f7f7f\">40</span></a>\n",
       "</pre>\n"
      ],
      "text/plain": [
       "\u001b[2;36m[21:40:02]\u001b[0m\u001b[2;36m \u001b[0mLoad appearance_feature_extractor done.                                      \u001b]8;id=565016;file://d:\\Projects\\Upenn_CIS_5650\\final-project\\LivePortrait\\src\\live_portrait_wrapper.py\u001b\\\u001b[2mlive_portrait_wrapper.py\u001b[0m\u001b]8;;\u001b\\\u001b[2m:\u001b[0m\u001b]8;id=355640;file://d:\\Projects\\Upenn_CIS_5650\\final-project\\LivePortrait\\src\\live_portrait_wrapper.py#40\u001b\\\u001b[2m40\u001b[0m\u001b]8;;\u001b\\\n"
      ]
     },
     "metadata": {},
     "output_type": "display_data"
    },
    {
     "data": {
      "text/html": [
       "<pre style=\"white-space:pre;overflow-x:auto;line-height:normal;font-family:Menlo,'DejaVu Sans Mono',consolas,'Courier New',monospace\"><span style=\"color: #7fbfbf; text-decoration-color: #7fbfbf\">           </span>Load motion_extractor done.                                                  <a href=\"file://d:\\Projects\\Upenn_CIS_5650\\final-project\\LivePortrait\\src\\live_portrait_wrapper.py\" target=\"_blank\"><span style=\"color: #7f7f7f; text-decoration-color: #7f7f7f\">live_portrait_wrapper.py</span></a><span style=\"color: #7f7f7f; text-decoration-color: #7f7f7f\">:</span><a href=\"file://d:\\Projects\\Upenn_CIS_5650\\final-project\\LivePortrait\\src\\live_portrait_wrapper.py#43\" target=\"_blank\"><span style=\"color: #7f7f7f; text-decoration-color: #7f7f7f\">43</span></a>\n",
       "</pre>\n"
      ],
      "text/plain": [
       "\u001b[2;36m          \u001b[0m\u001b[2;36m \u001b[0mLoad motion_extractor done.                                                  \u001b]8;id=409542;file://d:\\Projects\\Upenn_CIS_5650\\final-project\\LivePortrait\\src\\live_portrait_wrapper.py\u001b\\\u001b[2mlive_portrait_wrapper.py\u001b[0m\u001b]8;;\u001b\\\u001b[2m:\u001b[0m\u001b]8;id=224124;file://d:\\Projects\\Upenn_CIS_5650\\final-project\\LivePortrait\\src\\live_portrait_wrapper.py#43\u001b\\\u001b[2m43\u001b[0m\u001b]8;;\u001b\\\n"
      ]
     },
     "metadata": {},
     "output_type": "display_data"
    },
    {
     "data": {
      "text/html": [
       "<pre style=\"white-space:pre;overflow-x:auto;line-height:normal;font-family:Menlo,'DejaVu Sans Mono',consolas,'Courier New',monospace\"><span style=\"color: #7fbfbf; text-decoration-color: #7fbfbf\">           </span>Load warping_module done.                                                    <a href=\"file://d:\\Projects\\Upenn_CIS_5650\\final-project\\LivePortrait\\src\\live_portrait_wrapper.py\" target=\"_blank\"><span style=\"color: #7f7f7f; text-decoration-color: #7f7f7f\">live_portrait_wrapper.py</span></a><span style=\"color: #7f7f7f; text-decoration-color: #7f7f7f\">:</span><a href=\"file://d:\\Projects\\Upenn_CIS_5650\\final-project\\LivePortrait\\src\\live_portrait_wrapper.py#46\" target=\"_blank\"><span style=\"color: #7f7f7f; text-decoration-color: #7f7f7f\">46</span></a>\n",
       "</pre>\n"
      ],
      "text/plain": [
       "\u001b[2;36m          \u001b[0m\u001b[2;36m \u001b[0mLoad warping_module done.                                                    \u001b]8;id=416797;file://d:\\Projects\\Upenn_CIS_5650\\final-project\\LivePortrait\\src\\live_portrait_wrapper.py\u001b\\\u001b[2mlive_portrait_wrapper.py\u001b[0m\u001b]8;;\u001b\\\u001b[2m:\u001b[0m\u001b]8;id=127175;file://d:\\Projects\\Upenn_CIS_5650\\final-project\\LivePortrait\\src\\live_portrait_wrapper.py#46\u001b\\\u001b[2m46\u001b[0m\u001b]8;;\u001b\\\n"
      ]
     },
     "metadata": {},
     "output_type": "display_data"
    },
    {
     "data": {
      "text/html": [
       "<pre style=\"white-space:pre;overflow-x:auto;line-height:normal;font-family:Menlo,'DejaVu Sans Mono',consolas,'Courier New',monospace\"><span style=\"color: #7fbfbf; text-decoration-color: #7fbfbf\">[21:40:03] </span>Load spade_generator done.                                                   <a href=\"file://d:\\Projects\\Upenn_CIS_5650\\final-project\\LivePortrait\\src\\live_portrait_wrapper.py\" target=\"_blank\"><span style=\"color: #7f7f7f; text-decoration-color: #7f7f7f\">live_portrait_wrapper.py</span></a><span style=\"color: #7f7f7f; text-decoration-color: #7f7f7f\">:</span><a href=\"file://d:\\Projects\\Upenn_CIS_5650\\final-project\\LivePortrait\\src\\live_portrait_wrapper.py#49\" target=\"_blank\"><span style=\"color: #7f7f7f; text-decoration-color: #7f7f7f\">49</span></a>\n",
       "</pre>\n"
      ],
      "text/plain": [
       "\u001b[2;36m[21:40:03]\u001b[0m\u001b[2;36m \u001b[0mLoad spade_generator done.                                                   \u001b]8;id=420078;file://d:\\Projects\\Upenn_CIS_5650\\final-project\\LivePortrait\\src\\live_portrait_wrapper.py\u001b\\\u001b[2mlive_portrait_wrapper.py\u001b[0m\u001b]8;;\u001b\\\u001b[2m:\u001b[0m\u001b]8;id=945472;file://d:\\Projects\\Upenn_CIS_5650\\final-project\\LivePortrait\\src\\live_portrait_wrapper.py#49\u001b\\\u001b[2m49\u001b[0m\u001b]8;;\u001b\\\n"
      ]
     },
     "metadata": {},
     "output_type": "display_data"
    },
    {
     "data": {
      "text/html": [
       "<pre style=\"white-space:pre;overflow-x:auto;line-height:normal;font-family:Menlo,'DejaVu Sans Mono',consolas,'Courier New',monospace\"><span style=\"color: #7fbfbf; text-decoration-color: #7fbfbf\">           </span>Load stitching_retargeting_module done.                                      <a href=\"file://d:\\Projects\\Upenn_CIS_5650\\final-project\\LivePortrait\\src\\live_portrait_wrapper.py\" target=\"_blank\"><span style=\"color: #7f7f7f; text-decoration-color: #7f7f7f\">live_portrait_wrapper.py</span></a><span style=\"color: #7f7f7f; text-decoration-color: #7f7f7f\">:</span><a href=\"file://d:\\Projects\\Upenn_CIS_5650\\final-project\\LivePortrait\\src\\live_portrait_wrapper.py#53\" target=\"_blank\"><span style=\"color: #7f7f7f; text-decoration-color: #7f7f7f\">53</span></a>\n",
       "</pre>\n"
      ],
      "text/plain": [
       "\u001b[2;36m          \u001b[0m\u001b[2;36m \u001b[0mLoad stitching_retargeting_module done.                                      \u001b]8;id=643693;file://d:\\Projects\\Upenn_CIS_5650\\final-project\\LivePortrait\\src\\live_portrait_wrapper.py\u001b\\\u001b[2mlive_portrait_wrapper.py\u001b[0m\u001b]8;;\u001b\\\u001b[2m:\u001b[0m\u001b]8;id=829387;file://d:\\Projects\\Upenn_CIS_5650\\final-project\\LivePortrait\\src\\live_portrait_wrapper.py#53\u001b\\\u001b[2m53\u001b[0m\u001b]8;;\u001b\\\n"
      ]
     },
     "metadata": {},
     "output_type": "display_data"
    },
    {
     "data": {
      "text/html": [
       "<pre style=\"white-space:pre;overflow-x:auto;line-height:normal;font-family:Menlo,'DejaVu Sans Mono',consolas,'Courier New',monospace\"><span style=\"color: #7fbfbf; text-decoration-color: #7fbfbf\">[21:40:05] </span>LandmarkRunner warmup time: <span style=\"color: #008080; text-decoration-color: #008080; font-weight: bold\">1.</span>718s                                                 <a href=\"file://d:\\Projects\\Upenn_CIS_5650\\final-project\\LivePortrait\\src\\utils\\landmark_runner.py\" target=\"_blank\"><span style=\"color: #7f7f7f; text-decoration-color: #7f7f7f\">landmark_runner.py</span></a><span style=\"color: #7f7f7f; text-decoration-color: #7f7f7f\">:</span><a href=\"file://d:\\Projects\\Upenn_CIS_5650\\final-project\\LivePortrait\\src\\utils\\landmark_runner.py#95\" target=\"_blank\"><span style=\"color: #7f7f7f; text-decoration-color: #7f7f7f\">95</span></a>\n",
       "</pre>\n"
      ],
      "text/plain": [
       "\u001b[2;36m[21:40:05]\u001b[0m\u001b[2;36m \u001b[0mLandmarkRunner warmup time: \u001b[1;36m1.\u001b[0m718s                                                 \u001b]8;id=686062;file://d:\\Projects\\Upenn_CIS_5650\\final-project\\LivePortrait\\src\\utils\\landmark_runner.py\u001b\\\u001b[2mlandmark_runner.py\u001b[0m\u001b]8;;\u001b\\\u001b[2m:\u001b[0m\u001b]8;id=970582;file://d:\\Projects\\Upenn_CIS_5650\\final-project\\LivePortrait\\src\\utils\\landmark_runner.py#95\u001b\\\u001b[2m95\u001b[0m\u001b]8;;\u001b\\\n"
      ]
     },
     "metadata": {},
     "output_type": "display_data"
    },
    {
     "data": {
      "text/html": [
       "<pre style=\"white-space:pre;overflow-x:auto;line-height:normal;font-family:Menlo,'DejaVu Sans Mono',consolas,'Courier New',monospace\"><span style=\"color: #7fbfbf; text-decoration-color: #7fbfbf\">[21:40:06] </span>FaceAnalysisDIY warmup time: <span style=\"color: #008080; text-decoration-color: #008080; font-weight: bold\">1.</span>034s                                              <a href=\"file://d:\\Projects\\Upenn_CIS_5650\\final-project\\LivePortrait\\src\\utils\\face_analysis_diy.py\" target=\"_blank\"><span style=\"color: #7f7f7f; text-decoration-color: #7f7f7f\">face_analysis_diy.py</span></a><span style=\"color: #7f7f7f; text-decoration-color: #7f7f7f\">:</span><a href=\"file://d:\\Projects\\Upenn_CIS_5650\\final-project\\LivePortrait\\src\\utils\\face_analysis_diy.py#79\" target=\"_blank\"><span style=\"color: #7f7f7f; text-decoration-color: #7f7f7f\">79</span></a>\n",
       "</pre>\n"
      ],
      "text/plain": [
       "\u001b[2;36m[21:40:06]\u001b[0m\u001b[2;36m \u001b[0mFaceAnalysisDIY warmup time: \u001b[1;36m1.\u001b[0m034s                                              \u001b]8;id=839148;file://d:\\Projects\\Upenn_CIS_5650\\final-project\\LivePortrait\\src\\utils\\face_analysis_diy.py\u001b\\\u001b[2mface_analysis_diy.py\u001b[0m\u001b]8;;\u001b\\\u001b[2m:\u001b[0m\u001b]8;id=227305;file://d:\\Projects\\Upenn_CIS_5650\\final-project\\LivePortrait\\src\\utils\\face_analysis_diy.py#79\u001b\\\u001b[2m79\u001b[0m\u001b]8;;\u001b\\\n"
      ]
     },
     "metadata": {},
     "output_type": "display_data"
    },
    {
     "data": {
      "text/html": [
       "<pre style=\"white-space:pre;overflow-x:auto;line-height:normal;font-family:Menlo,'DejaVu Sans Mono',consolas,'Courier New',monospace\"><span style=\"color: #7fbfbf; text-decoration-color: #7fbfbf\">           </span>Load source image from                                                      <a href=\"file://d:\\Projects\\Upenn_CIS_5650\\final-project\\LivePortrait\\src\\live_portrait_pipeline.py\" target=\"_blank\"><span style=\"color: #7f7f7f; text-decoration-color: #7f7f7f\">live_portrait_pipeline.py</span></a><span style=\"color: #7f7f7f; text-decoration-color: #7f7f7f\">:</span><a href=\"file://d:\\Projects\\Upenn_CIS_5650\\final-project\\LivePortrait\\src\\live_portrait_pipeline.py#90\" target=\"_blank\"><span style=\"color: #7f7f7f; text-decoration-color: #7f7f7f\">90</span></a>\n",
       "<span style=\"color: #7fbfbf; text-decoration-color: #7fbfbf\">           </span>D:\\Projects\\Upenn_CIS_5650\\final-project\\LivePortrait\\src\\config\\..<span style=\"color: #800080; text-decoration-color: #800080\">/../asse</span> <span style=\"color: #7f7f7f; text-decoration-color: #7f7f7f\">                            </span>\n",
       "<span style=\"color: #7fbfbf; text-decoration-color: #7fbfbf\">           </span><span style=\"color: #800080; text-decoration-color: #800080\">ts/examples/source/</span><span style=\"color: #ff00ff; text-decoration-color: #ff00ff\">s0.jpg</span>                                                   <span style=\"color: #7f7f7f; text-decoration-color: #7f7f7f\">                            </span>\n",
       "</pre>\n"
      ],
      "text/plain": [
       "\u001b[2;36m          \u001b[0m\u001b[2;36m \u001b[0mLoad source image from                                                      \u001b]8;id=477001;file://d:\\Projects\\Upenn_CIS_5650\\final-project\\LivePortrait\\src\\live_portrait_pipeline.py\u001b\\\u001b[2mlive_portrait_pipeline.py\u001b[0m\u001b]8;;\u001b\\\u001b[2m:\u001b[0m\u001b]8;id=780192;file://d:\\Projects\\Upenn_CIS_5650\\final-project\\LivePortrait\\src\\live_portrait_pipeline.py#90\u001b\\\u001b[2m90\u001b[0m\u001b]8;;\u001b\\\n",
       "\u001b[2;36m           \u001b[0mD:\\Projects\\Upenn_CIS_5650\\final-project\\LivePortrait\\src\\config\\..\u001b[35m/../asse\u001b[0m \u001b[2m                            \u001b[0m\n",
       "\u001b[2;36m           \u001b[0m\u001b[35mts/examples/source/\u001b[0m\u001b[95ms0.jpg\u001b[0m                                                   \u001b[2m                            \u001b[0m\n"
      ]
     },
     "metadata": {},
     "output_type": "display_data"
    },
    {
     "data": {
      "text/html": [
       "<pre style=\"white-space:pre;overflow-x:auto;line-height:normal;font-family:Menlo,'DejaVu Sans Mono',consolas,'Courier New',monospace\"><span style=\"color: #7fbfbf; text-decoration-color: #7fbfbf\">           </span>Load driving video from:                                                   <a href=\"file://d:\\Projects\\Upenn_CIS_5650\\final-project\\LivePortrait\\src\\live_portrait_pipeline.py\" target=\"_blank\"><span style=\"color: #7f7f7f; text-decoration-color: #7f7f7f\">live_portrait_pipeline.py</span></a><span style=\"color: #7f7f7f; text-decoration-color: #7f7f7f\">:</span><a href=\"file://d:\\Projects\\Upenn_CIS_5650\\final-project\\LivePortrait\\src\\live_portrait_pipeline.py#128\" target=\"_blank\"><span style=\"color: #7f7f7f; text-decoration-color: #7f7f7f\">128</span></a>\n",
       "<span style=\"color: #7fbfbf; text-decoration-color: #7fbfbf\">           </span>D:\\Projects\\Upenn_CIS_5650\\final-project\\LivePortrait\\src\\config\\..<span style=\"color: #800080; text-decoration-color: #800080\">/../ass</span> <span style=\"color: #7f7f7f; text-decoration-color: #7f7f7f\">                             </span>\n",
       "<span style=\"color: #7fbfbf; text-decoration-color: #7fbfbf\">           </span><span style=\"color: #800080; text-decoration-color: #800080\">ets/examples/driving/</span><span style=\"color: #ff00ff; text-decoration-color: #ff00ff\">d0.mp4</span>, FPS is <span style=\"color: #008080; text-decoration-color: #008080; font-weight: bold\">25</span>                                     <span style=\"color: #7f7f7f; text-decoration-color: #7f7f7f\">                             </span>\n",
       "</pre>\n"
      ],
      "text/plain": [
       "\u001b[2;36m          \u001b[0m\u001b[2;36m \u001b[0mLoad driving video from:                                                   \u001b]8;id=267547;file://d:\\Projects\\Upenn_CIS_5650\\final-project\\LivePortrait\\src\\live_portrait_pipeline.py\u001b\\\u001b[2mlive_portrait_pipeline.py\u001b[0m\u001b]8;;\u001b\\\u001b[2m:\u001b[0m\u001b]8;id=753918;file://d:\\Projects\\Upenn_CIS_5650\\final-project\\LivePortrait\\src\\live_portrait_pipeline.py#128\u001b\\\u001b[2m128\u001b[0m\u001b]8;;\u001b\\\n",
       "\u001b[2;36m           \u001b[0mD:\\Projects\\Upenn_CIS_5650\\final-project\\LivePortrait\\src\\config\\..\u001b[35m/../ass\u001b[0m \u001b[2m                             \u001b[0m\n",
       "\u001b[2;36m           \u001b[0m\u001b[35mets/examples/driving/\u001b[0m\u001b[95md0.mp4\u001b[0m, FPS is \u001b[1;36m25\u001b[0m                                     \u001b[2m                             \u001b[0m\n"
      ]
     },
     "metadata": {},
     "output_type": "display_data"
    },
    {
     "data": {
      "text/html": [
       "<pre style=\"white-space:pre;overflow-x:auto;line-height:normal;font-family:Menlo,'DejaVu Sans Mono',consolas,'Courier New',monospace\"><span style=\"color: #7fbfbf; text-decoration-color: #7fbfbf\">[21:40:07] </span>Start making driving motion template<span style=\"color: #808000; text-decoration-color: #808000\">...</span>                                    <a href=\"file://d:\\Projects\\Upenn_CIS_5650\\final-project\\LivePortrait\\src\\live_portrait_pipeline.py\" target=\"_blank\"><span style=\"color: #7f7f7f; text-decoration-color: #7f7f7f\">live_portrait_pipeline.py</span></a><span style=\"color: #7f7f7f; text-decoration-color: #7f7f7f\">:</span><a href=\"file://d:\\Projects\\Upenn_CIS_5650\\final-project\\LivePortrait\\src\\live_portrait_pipeline.py#134\" target=\"_blank\"><span style=\"color: #7f7f7f; text-decoration-color: #7f7f7f\">134</span></a>\n",
       "</pre>\n"
      ],
      "text/plain": [
       "\u001b[2;36m[21:40:07]\u001b[0m\u001b[2;36m \u001b[0mStart making driving motion template\u001b[33m...\u001b[0m                                    \u001b]8;id=927696;file://d:\\Projects\\Upenn_CIS_5650\\final-project\\LivePortrait\\src\\live_portrait_pipeline.py\u001b\\\u001b[2mlive_portrait_pipeline.py\u001b[0m\u001b]8;;\u001b\\\u001b[2m:\u001b[0m\u001b]8;id=343991;file://d:\\Projects\\Upenn_CIS_5650\\final-project\\LivePortrait\\src\\live_portrait_pipeline.py#134\u001b\\\u001b[2m134\u001b[0m\u001b]8;;\u001b\\\n"
      ]
     },
     "metadata": {},
     "output_type": "display_data"
    },
    {
     "data": {
      "text/html": [
       "<pre style=\"white-space:pre;overflow-x:auto;line-height:normal;font-family:Menlo,'DejaVu Sans Mono',consolas,'Courier New',monospace\">d:\\Projects\\Upenn_CIS_5650\\final-project\\LivePortrait\\fp\\Lib\\site-packages\\rich\\live.py:231: UserWarning: install \n",
       "\"ipywidgets\" for Jupyter support\n",
       "  warnings.warn('install \"ipywidgets\" for Jupyter support')\n",
       "</pre>\n"
      ],
      "text/plain": [
       "d:\\Projects\\Upenn_CIS_5650\\final-project\\LivePortrait\\fp\\Lib\\site-packages\\rich\\live.py:231: UserWarning: install \n",
       "\"ipywidgets\" for Jupyter support\n",
       "  warnings.warn('install \"ipywidgets\" for Jupyter support')\n"
      ]
     },
     "metadata": {},
     "output_type": "display_data"
    },
    {
     "data": {
      "text/html": [
       "<pre style=\"white-space:pre;overflow-x:auto;line-height:normal;font-family:Menlo,'DejaVu Sans Mono',consolas,'Courier New',monospace\"></pre>\n"
      ],
      "text/plain": []
     },
     "metadata": {},
     "output_type": "display_data"
    },
    {
     "data": {
      "text/html": [
       "<pre style=\"white-space:pre;overflow-x:auto;line-height:normal;font-family:Menlo,'DejaVu Sans Mono',consolas,'Courier New',monospace\">\n",
       "</pre>\n"
      ],
      "text/plain": [
       "\n"
      ]
     },
     "metadata": {},
     "output_type": "display_data"
    },
    {
     "data": {
      "text/html": [
       "<pre style=\"white-space:pre;overflow-x:auto;line-height:normal;font-family:Menlo,'DejaVu Sans Mono',consolas,'Courier New',monospace\"><span style=\"color: #7fbfbf; text-decoration-color: #7fbfbf\">[21:40:08] </span>Dump motion template to                                                    <a href=\"file://d:\\Projects\\Upenn_CIS_5650\\final-project\\LivePortrait\\src\\live_portrait_pipeline.py\" target=\"_blank\"><span style=\"color: #7f7f7f; text-decoration-color: #7f7f7f\">live_portrait_pipeline.py</span></a><span style=\"color: #7f7f7f; text-decoration-color: #7f7f7f\">:</span><a href=\"file://d:\\Projects\\Upenn_CIS_5650\\final-project\\LivePortrait\\src\\live_portrait_pipeline.py#159\" target=\"_blank\"><span style=\"color: #7f7f7f; text-decoration-color: #7f7f7f\">159</span></a>\n",
       "<span style=\"color: #7fbfbf; text-decoration-color: #7fbfbf\">           </span>D:\\Projects\\Upenn_CIS_5650\\final-project\\LivePortrait\\src\\config\\..<span style=\"color: #800080; text-decoration-color: #800080\">/../ass</span> <span style=\"color: #7f7f7f; text-decoration-color: #7f7f7f\">                             </span>\n",
       "<span style=\"color: #7fbfbf; text-decoration-color: #7fbfbf\">           </span><span style=\"color: #800080; text-decoration-color: #800080\">ets/examples/</span><span style=\"color: #ff00ff; text-decoration-color: #ff00ff\">driving</span>\\d0.pkl                                                <span style=\"color: #7f7f7f; text-decoration-color: #7f7f7f\">                             </span>\n",
       "</pre>\n"
      ],
      "text/plain": [
       "\u001b[2;36m[21:40:08]\u001b[0m\u001b[2;36m \u001b[0mDump motion template to                                                    \u001b]8;id=722321;file://d:\\Projects\\Upenn_CIS_5650\\final-project\\LivePortrait\\src\\live_portrait_pipeline.py\u001b\\\u001b[2mlive_portrait_pipeline.py\u001b[0m\u001b]8;;\u001b\\\u001b[2m:\u001b[0m\u001b]8;id=493704;file://d:\\Projects\\Upenn_CIS_5650\\final-project\\LivePortrait\\src\\live_portrait_pipeline.py#159\u001b\\\u001b[2m159\u001b[0m\u001b]8;;\u001b\\\n",
       "\u001b[2;36m           \u001b[0mD:\\Projects\\Upenn_CIS_5650\\final-project\\LivePortrait\\src\\config\\..\u001b[35m/../ass\u001b[0m \u001b[2m                             \u001b[0m\n",
       "\u001b[2;36m           \u001b[0m\u001b[35mets/examples/\u001b[0m\u001b[95mdriving\u001b[0m\\d0.pkl                                                \u001b[2m                             \u001b[0m\n"
      ]
     },
     "metadata": {},
     "output_type": "display_data"
    },
    {
     "data": {
      "text/html": [
       "<pre style=\"white-space:pre;overflow-x:auto;line-height:normal;font-family:Menlo,'DejaVu Sans Mono',consolas,'Courier New',monospace\"><span style=\"color: #7fbfbf; text-decoration-color: #7fbfbf\">           </span>Prepared pasteback mask done.                                              <a href=\"file://d:\\Projects\\Upenn_CIS_5650\\final-project\\LivePortrait\\src\\live_portrait_pipeline.py\" target=\"_blank\"><span style=\"color: #7f7f7f; text-decoration-color: #7f7f7f\">live_portrait_pipeline.py</span></a><span style=\"color: #7f7f7f; text-decoration-color: #7f7f7f\">:</span><a href=\"file://d:\\Projects\\Upenn_CIS_5650\\final-project\\LivePortrait\\src\\live_portrait_pipeline.py#168\" target=\"_blank\"><span style=\"color: #7f7f7f; text-decoration-color: #7f7f7f\">168</span></a>\n",
       "</pre>\n"
      ],
      "text/plain": [
       "\u001b[2;36m          \u001b[0m\u001b[2;36m \u001b[0mPrepared pasteback mask done.                                              \u001b]8;id=395733;file://d:\\Projects\\Upenn_CIS_5650\\final-project\\LivePortrait\\src\\live_portrait_pipeline.py\u001b\\\u001b[2mlive_portrait_pipeline.py\u001b[0m\u001b]8;;\u001b\\\u001b[2m:\u001b[0m\u001b]8;id=832338;file://d:\\Projects\\Upenn_CIS_5650\\final-project\\LivePortrait\\src\\live_portrait_pipeline.py#168\u001b\\\u001b[2m168\u001b[0m\u001b]8;;\u001b\\\n"
      ]
     },
     "metadata": {},
     "output_type": "display_data"
    },
    {
     "data": {
      "text/html": [
       "<pre style=\"white-space:pre;overflow-x:auto;line-height:normal;font-family:Menlo,'DejaVu Sans Mono',consolas,'Courier New',monospace\"><span style=\"color: #7fbfbf; text-decoration-color: #7fbfbf\">[21:40:10] </span>The animated video consists of <span style=\"color: #008080; text-decoration-color: #008080; font-weight: bold\">78</span> frames.                                  <a href=\"file://d:\\Projects\\Upenn_CIS_5650\\final-project\\LivePortrait\\src\\live_portrait_pipeline.py\" target=\"_blank\"><span style=\"color: #7f7f7f; text-decoration-color: #7f7f7f\">live_portrait_pipeline.py</span></a><span style=\"color: #7f7f7f; text-decoration-color: #7f7f7f\">:</span><a href=\"file://d:\\Projects\\Upenn_CIS_5650\\final-project\\LivePortrait\\src\\live_portrait_pipeline.py#238\" target=\"_blank\"><span style=\"color: #7f7f7f; text-decoration-color: #7f7f7f\">238</span></a>\n",
       "</pre>\n"
      ],
      "text/plain": [
       "\u001b[2;36m[21:40:10]\u001b[0m\u001b[2;36m \u001b[0mThe animated video consists of \u001b[1;36m78\u001b[0m frames.                                  \u001b]8;id=890333;file://d:\\Projects\\Upenn_CIS_5650\\final-project\\LivePortrait\\src\\live_portrait_pipeline.py\u001b\\\u001b[2mlive_portrait_pipeline.py\u001b[0m\u001b]8;;\u001b\\\u001b[2m:\u001b[0m\u001b]8;id=488005;file://d:\\Projects\\Upenn_CIS_5650\\final-project\\LivePortrait\\src\\live_portrait_pipeline.py#238\u001b\\\u001b[2m238\u001b[0m\u001b]8;;\u001b\\\n"
      ]
     },
     "metadata": {},
     "output_type": "display_data"
    },
    {
     "data": {
      "text/html": [
       "<pre style=\"white-space:pre;overflow-x:auto;line-height:normal;font-family:Menlo,'DejaVu Sans Mono',consolas,'Courier New',monospace\">d:\\Projects\\Upenn_CIS_5650\\final-project\\LivePortrait\\fp\\Lib\\site-packages\\rich\\live.py:231: UserWarning: install \n",
       "\"ipywidgets\" for Jupyter support\n",
       "  warnings.warn('install \"ipywidgets\" for Jupyter support')\n",
       "</pre>\n"
      ],
      "text/plain": [
       "d:\\Projects\\Upenn_CIS_5650\\final-project\\LivePortrait\\fp\\Lib\\site-packages\\rich\\live.py:231: UserWarning: install \n",
       "\"ipywidgets\" for Jupyter support\n",
       "  warnings.warn('install \"ipywidgets\" for Jupyter support')\n"
      ]
     },
     "metadata": {},
     "output_type": "display_data"
    },
    {
     "data": {
      "text/html": [
       "<pre style=\"white-space:pre;overflow-x:auto;line-height:normal;font-family:Menlo,'DejaVu Sans Mono',consolas,'Courier New',monospace\"></pre>\n"
      ],
      "text/plain": []
     },
     "metadata": {},
     "output_type": "display_data"
    },
    {
     "data": {
      "text/html": [
       "<pre style=\"white-space:pre;overflow-x:auto;line-height:normal;font-family:Menlo,'DejaVu Sans Mono',consolas,'Courier New',monospace\">\n",
       "</pre>\n"
      ],
      "text/plain": [
       "\n"
      ]
     },
     "metadata": {},
     "output_type": "display_data"
    },
    {
     "data": {
      "text/html": [
       "<pre style=\"white-space:pre;overflow-x:auto;line-height:normal;font-family:Menlo,'DejaVu Sans Mono',consolas,'Courier New',monospace\"></pre>\n"
      ],
      "text/plain": []
     },
     "metadata": {},
     "output_type": "display_data"
    },
    {
     "data": {
      "text/html": [
       "<pre style=\"white-space:pre;overflow-x:auto;line-height:normal;font-family:Menlo,'DejaVu Sans Mono',consolas,'Courier New',monospace\">\n",
       "</pre>\n"
      ],
      "text/plain": [
       "\n"
      ]
     },
     "metadata": {},
     "output_type": "display_data"
    },
    {
     "data": {
      "text/html": [
       "<pre style=\"white-space:pre;overflow-x:auto;line-height:normal;font-family:Menlo,'DejaVu Sans Mono',consolas,'Courier New',monospace\"></pre>\n"
      ],
      "text/plain": []
     },
     "metadata": {},
     "output_type": "display_data"
    },
    {
     "data": {
      "text/html": [
       "<pre style=\"white-space:pre;overflow-x:auto;line-height:normal;font-family:Menlo,'DejaVu Sans Mono',consolas,'Courier New',monospace\">\n",
       "</pre>\n"
      ],
      "text/plain": [
       "\n"
      ]
     },
     "metadata": {},
     "output_type": "display_data"
    },
    {
     "data": {
      "text/html": [
       "<pre style=\"white-space:pre;overflow-x:auto;line-height:normal;font-family:Menlo,'DejaVu Sans Mono',consolas,'Courier New',monospace\"></pre>\n"
      ],
      "text/plain": []
     },
     "metadata": {},
     "output_type": "display_data"
    },
    {
     "data": {
      "text/html": [
       "<pre style=\"white-space:pre;overflow-x:auto;line-height:normal;font-family:Menlo,'DejaVu Sans Mono',consolas,'Courier New',monospace\">\n",
       "</pre>\n"
      ],
      "text/plain": [
       "\n"
      ]
     },
     "metadata": {},
     "output_type": "display_data"
    },
    {
     "data": {
      "text/html": [
       "<pre style=\"white-space:pre;overflow-x:auto;line-height:normal;font-family:Menlo,'DejaVu Sans Mono',consolas,'Courier New',monospace\"><span style=\"color: #7fbfbf; text-decoration-color: #7fbfbf\">[21:40:14] </span><span style=\"color: #008000; text-decoration-color: #008000; font-weight: bold\">Animated template:                                                        </span> <a href=\"file://d:\\Projects\\Upenn_CIS_5650\\final-project\\LivePortrait\\src\\live_portrait_pipeline.py\" target=\"_blank\"><span style=\"color: #7f7f7f; text-decoration-color: #7f7f7f\">live_portrait_pipeline.py</span></a><span style=\"color: #7f7f7f; text-decoration-color: #7f7f7f\">:</span><a href=\"file://d:\\Projects\\Upenn_CIS_5650\\final-project\\LivePortrait\\src\\live_portrait_pipeline.py#412\" target=\"_blank\"><span style=\"color: #7f7f7f; text-decoration-color: #7f7f7f\">412</span></a>\n",
       "<span style=\"color: #7fbfbf; text-decoration-color: #7fbfbf\">           </span><span style=\"color: #008000; text-decoration-color: #008000; font-weight: bold\">D:\\Projects\\Upenn_CIS_5650\\final-project\\LivePortrait\\src\\config\\..</span><span style=\"color: #800080; text-decoration-color: #800080; font-weight: bold\">/../ass</span> <span style=\"color: #7f7f7f; text-decoration-color: #7f7f7f\">                             </span>\n",
       "<span style=\"color: #7fbfbf; text-decoration-color: #7fbfbf\">           </span><span style=\"color: #800080; text-decoration-color: #800080; font-weight: bold\">ets/examples/</span><span style=\"color: #ff00ff; text-decoration-color: #ff00ff; font-weight: bold\">driving</span><span style=\"color: #008000; text-decoration-color: #008000; font-weight: bold\">\\d0.pkl, you can specify `-d` argument with this      </span> <span style=\"color: #7f7f7f; text-decoration-color: #7f7f7f\">                             </span>\n",
       "<span style=\"color: #7fbfbf; text-decoration-color: #7fbfbf\">           </span><span style=\"color: #008000; text-decoration-color: #008000; font-weight: bold\">template path next time to avoid cropping video, motion making and        </span> <span style=\"color: #7f7f7f; text-decoration-color: #7f7f7f\">                             </span>\n",
       "<span style=\"color: #7fbfbf; text-decoration-color: #7fbfbf\">           </span><span style=\"color: #008000; text-decoration-color: #008000; font-weight: bold\">protecting privacy.                                                       </span> <span style=\"color: #7f7f7f; text-decoration-color: #7f7f7f\">                             </span>\n",
       "</pre>\n"
      ],
      "text/plain": [
       "\u001b[2;36m[21:40:14]\u001b[0m\u001b[2;36m \u001b[0m\u001b[1;32mAnimated template:                                                        \u001b[0m \u001b]8;id=950223;file://d:\\Projects\\Upenn_CIS_5650\\final-project\\LivePortrait\\src\\live_portrait_pipeline.py\u001b\\\u001b[2mlive_portrait_pipeline.py\u001b[0m\u001b]8;;\u001b\\\u001b[2m:\u001b[0m\u001b]8;id=996304;file://d:\\Projects\\Upenn_CIS_5650\\final-project\\LivePortrait\\src\\live_portrait_pipeline.py#412\u001b\\\u001b[2m412\u001b[0m\u001b]8;;\u001b\\\n",
       "\u001b[2;36m           \u001b[0m\u001b[1;32mD:\\Projects\\Upenn_CIS_5650\\final-project\\LivePortrait\\src\\config\\..\u001b[0m\u001b[1;35m/../ass\u001b[0m \u001b[2m                             \u001b[0m\n",
       "\u001b[2;36m           \u001b[0m\u001b[1;35mets/examples/\u001b[0m\u001b[1;95mdriving\u001b[0m\u001b[1;32m\\d0.pkl, you can specify `-d` argument with this      \u001b[0m \u001b[2m                             \u001b[0m\n",
       "\u001b[2;36m           \u001b[0m\u001b[1;32mtemplate path next time to avoid cropping video, motion making and        \u001b[0m \u001b[2m                             \u001b[0m\n",
       "\u001b[2;36m           \u001b[0m\u001b[1;32mprotecting privacy.                                                       \u001b[0m \u001b[2m                             \u001b[0m\n"
      ]
     },
     "metadata": {},
     "output_type": "display_data"
    },
    {
     "data": {
      "text/html": [
       "<pre style=\"white-space:pre;overflow-x:auto;line-height:normal;font-family:Menlo,'DejaVu Sans Mono',consolas,'Courier New',monospace\"><span style=\"color: #7fbfbf; text-decoration-color: #7fbfbf\">           </span>Animated video: animations/s0--d0.mp4                                      <a href=\"file://d:\\Projects\\Upenn_CIS_5650\\final-project\\LivePortrait\\src\\live_portrait_pipeline.py\" target=\"_blank\"><span style=\"color: #7f7f7f; text-decoration-color: #7f7f7f\">live_portrait_pipeline.py</span></a><span style=\"color: #7f7f7f; text-decoration-color: #7f7f7f\">:</span><a href=\"file://d:\\Projects\\Upenn_CIS_5650\\final-project\\LivePortrait\\src\\live_portrait_pipeline.py#413\" target=\"_blank\"><span style=\"color: #7f7f7f; text-decoration-color: #7f7f7f\">413</span></a>\n",
       "</pre>\n"
      ],
      "text/plain": [
       "\u001b[2;36m          \u001b[0m\u001b[2;36m \u001b[0mAnimated video: animations/s0--d0.mp4                                      \u001b]8;id=593574;file://d:\\Projects\\Upenn_CIS_5650\\final-project\\LivePortrait\\src\\live_portrait_pipeline.py\u001b\\\u001b[2mlive_portrait_pipeline.py\u001b[0m\u001b]8;;\u001b\\\u001b[2m:\u001b[0m\u001b]8;id=187915;file://d:\\Projects\\Upenn_CIS_5650\\final-project\\LivePortrait\\src\\live_portrait_pipeline.py#413\u001b\\\u001b[2m413\u001b[0m\u001b]8;;\u001b\\\n"
      ]
     },
     "metadata": {},
     "output_type": "display_data"
    },
    {
     "data": {
      "text/html": [
       "<pre style=\"white-space:pre;overflow-x:auto;line-height:normal;font-family:Menlo,'DejaVu Sans Mono',consolas,'Courier New',monospace\"><span style=\"color: #7fbfbf; text-decoration-color: #7fbfbf\">           </span>Animated video with concat: animations/s0--d0_concat.mp4                   <a href=\"file://d:\\Projects\\Upenn_CIS_5650\\final-project\\LivePortrait\\src\\live_portrait_pipeline.py\" target=\"_blank\"><span style=\"color: #7f7f7f; text-decoration-color: #7f7f7f\">live_portrait_pipeline.py</span></a><span style=\"color: #7f7f7f; text-decoration-color: #7f7f7f\">:</span><a href=\"file://d:\\Projects\\Upenn_CIS_5650\\final-project\\LivePortrait\\src\\live_portrait_pipeline.py#414\" target=\"_blank\"><span style=\"color: #7f7f7f; text-decoration-color: #7f7f7f\">414</span></a>\n",
       "</pre>\n"
      ],
      "text/plain": [
       "\u001b[2;36m          \u001b[0m\u001b[2;36m \u001b[0mAnimated video with concat: animations/s0--d0_concat.mp4                   \u001b]8;id=853242;file://d:\\Projects\\Upenn_CIS_5650\\final-project\\LivePortrait\\src\\live_portrait_pipeline.py\u001b\\\u001b[2mlive_portrait_pipeline.py\u001b[0m\u001b]8;;\u001b\\\u001b[2m:\u001b[0m\u001b]8;id=355511;file://d:\\Projects\\Upenn_CIS_5650\\final-project\\LivePortrait\\src\\live_portrait_pipeline.py#414\u001b\\\u001b[2m414\u001b[0m\u001b]8;;\u001b\\\n"
      ]
     },
     "metadata": {},
     "output_type": "display_data"
    }
   ],
   "source": [
    "main()"
   ]
  },
  {
   "cell_type": "code",
   "execution_count": null,
   "metadata": {},
   "outputs": [],
   "source": []
  }
 ],
 "metadata": {
  "kernelspec": {
   "display_name": "fp",
   "language": "python",
   "name": "python3"
  },
  "language_info": {
   "codemirror_mode": {
    "name": "ipython",
    "version": 3
   },
   "file_extension": ".py",
   "mimetype": "text/x-python",
   "name": "python",
   "nbconvert_exporter": "python",
   "pygments_lexer": "ipython3",
   "version": "3.12.3"
  }
 },
 "nbformat": 4,
 "nbformat_minor": 2
}
