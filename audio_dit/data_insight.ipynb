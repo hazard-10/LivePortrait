{
 "cells": [
  {
   "cell_type": "markdown",
   "metadata": {},
   "source": [
    "### 0. Load data"
   ]
  },
  {
   "cell_type": "code",
   "execution_count": 1,
   "metadata": {},
   "outputs": [],
   "source": [
    "import os\n",
    "import numpy as np\n",
    "import torch\n",
    "from concurrent.futures import ThreadPoolExecutor, as_completed\n",
    "from tqdm import tqdm\n",
    "\n",
    "'''\n",
    "How data loading works in this project:\n",
    "* We assume the npy will be sufficient to load into memory\n",
    "* latent composition:\n",
    "    concat_tensor = torch.cat([\n",
    "        x_info['kp'], # 63\n",
    "        x_info['exp'], # 63,\n",
    "        x_info['t'], # 3\n",
    "        x_info['pitch'], # 1\n",
    "        x_info['yaw'], # 1\n",
    "        x_info['roll'], # 1\n",
    "        x_info['scale'], # 1\n",
    "    ], dim=1)\n",
    "    \n",
    "    for person_feat\n",
    "     - kp single batch avg used for v1. exp keep the same, use global avg scale. t and rot will be subtracted in subsequent frames, \n",
    "     - so we can ignore t and rot for now\n",
    "    for training data\n",
    "     - use individual kp, exp, subtract dominant t and rot, use global scale\n",
    "    \n",
    "    \n",
    "\n",
    "1. Load both audio and motion latent from the npy files with load_npy_files\n",
    "    2.  Motion latent is processed to have a window of 65 frames with 10 frames overlap\n",
    "    2.1 The rotation and translation are frontalized \n",
    "3.  The processed data is then loaded into a custom dataset class for random sampling\n",
    "'''\n",
    "\n",
    "'''\n",
    "Part 1: Load and process the npy files\n",
    "'''\n",
    "def load_and_process_pair(audio_file, motion_file, latent_type='exp', latent_mask_1=None, latent_bound=None):\n",
    "    # Load audio file\n",
    "    # Check the type of audio_file\n",
    "    if isinstance(audio_file, (str, os.PathLike)):\n",
    "        # If it's a string (file path), load the audio data\n",
    "        audio_data = np.load(audio_file) \n",
    "    elif isinstance(audio_file, (np.ndarray, torch.Tensor)):\n",
    "        # If it's already a numpy array or torch tensor, use it as is\n",
    "        audio_data = audio_file\n",
    "    else:\n",
    "        # If it's neither a string nor a numpy array/torch tensor, raise an error\n",
    "        raise ValueError(\"audio_file must be a file path string, numpy array, or torch tensor\")\n",
    "\n",
    "    # Load and process motion file\n",
    "    motion_data = np.load(motion_file)\n",
    "    pad_length = (65 - (motion_data.shape[0] - 10) % 65) % 65\n",
    "    padded_data = np.pad(motion_data, ((0, pad_length), (0, 0)), mode='constant')\n",
    "    \n",
    "    data_without_first_10 = padded_data[10:]\n",
    "    N = data_without_first_10.shape[0] // 65\n",
    "    reshaped_data = data_without_first_10[:N*65].reshape(N, 65, 136)\n",
    "    last_10 = reshaped_data[:, -10:, :]\n",
    "    prev_10 = np.concatenate([padded_data[:10][None, :, :], last_10[:-1]], axis=0)\n",
    "    motion_data = np.concatenate([prev_10, reshaped_data], axis=1)\n",
    "    \n",
    "    # Ensure audio and motion data have the same number of frames. \n",
    "    # Prev lookup show 1 frame mismatch is common. In this case we only fix batch size mismatch\n",
    "    min_frames = min(audio_data.shape[0], motion_data.shape[0])\n",
    "    audio_data = audio_data[:min_frames]\n",
    "    motion_data = motion_data[:min_frames]\n",
    "    \n",
    "    motion_tensor = torch.from_numpy(motion_data)\n",
    "    if isinstance(audio_data, np.ndarray):\n",
    "        audio_tensor = torch.from_numpy(audio_data)\n",
    "    elif isinstance(audio_data, torch.Tensor):\n",
    "        audio_tensor = audio_data\n",
    "\n",
    "    motion_tensor, audio_tensor, shape_tensor, mouth_tensor = process_motion_tensor(motion_tensor, audio_tensor, latent_type, latent_mask_1, latent_bound)\n",
    "    \n",
    "    return motion_tensor, audio_tensor, shape_tensor, mouth_tensor\n",
    "\n",
    "def process_directory(uid, audio_root, motion_root, latent_type='exp', latent_mask_1=None, latent_bound=None):\n",
    "    audio_dir = os.path.join(audio_root, uid)\n",
    "    motion_dir = os.path.join(motion_root, uid)\n",
    "    \n",
    "    if not (os.path.isdir(audio_dir) and os.path.isdir(motion_dir)):\n",
    "        print(f\"Directory not found for \", audio_dir, motion_dir)\n",
    "        return None, None\n",
    "    \n",
    "    audio_files = sorted([f for f in os.listdir(audio_dir) if f.endswith('.npy')])\n",
    "    motion_files = sorted([f for f in os.listdir(motion_dir) if f.endswith('.npy')])\n",
    "    \n",
    "    motion_tensor_list = []\n",
    "    audio_tensor_list = []\n",
    "    shape_tensor_list = []\n",
    "    mouth_tensor_list = []\n",
    "    \n",
    "    for audio_file, motion_file in zip(audio_files, motion_files):\n",
    "        if audio_file != motion_file and audio_file.split('+')[0] != motion_file.split('+')[0]: \n",
    "            print(f\"Mismatch in {uid}: {audio_file} and {motion_file}\")\n",
    "            continue\n",
    "        \n",
    "        audio_path = os.path.join(audio_dir, audio_file)\n",
    "        motion_path = os.path.join(motion_dir, motion_file)\n",
    "        \n",
    "        motion_tensor, audio_tensor, shape_tensor, mouth_tensor = load_and_process_pair(audio_path, motion_path, latent_type, latent_mask_1, latent_bound)\n",
    "        motion_tensor_list.append(motion_tensor)\n",
    "        audio_tensor_list.append(audio_tensor)\n",
    "        shape_tensor_list.append(shape_tensor)\n",
    "        mouth_tensor_list.append(mouth_tensor)\n",
    "    \n",
    "    return torch.cat(motion_tensor_list, dim=0), torch.cat(audio_tensor_list, dim=0), torch.cat(shape_tensor_list, dim=0), torch.cat(mouth_tensor_list, dim=0)\n",
    "\n",
    "def load_npy_files(audio_root, motion_root, start_idx=None, end_idx=None, latent_type='exp', latent_mask_1=None, latent_bound=None):\n",
    "    all_dir_list = sorted(os.listdir(audio_root))\n",
    "    if start_idx is not None and end_idx is not None:\n",
    "        dir_list = all_dir_list[start_idx:end_idx]\n",
    "    else:\n",
    "        dir_list = all_dir_list\n",
    "    \n",
    "    all_motion_data = []\n",
    "    all_audio_data = []\n",
    "    all_shape_data = []\n",
    "    all_mouth_data = []\n",
    "    \n",
    "    for uid in tqdm(dir_list, desc=\"Processing directories\"):\n",
    "        try:\n",
    "            motion_data, audio_data, shape_data, mouth_data = process_directory(uid, audio_root, motion_root, latent_type, latent_mask_1, latent_bound)\n",
    "            if audio_data is not None and motion_data is not None:\n",
    "                all_motion_data.append(motion_data)\n",
    "                all_audio_data.append(audio_data)\n",
    "                all_shape_data.append(shape_data)\n",
    "                all_mouth_data.append(mouth_data)\n",
    "        except Exception as exc:\n",
    "            print(f'{uid} generated an exception: {exc}')\n",
    "    \n",
    "    motion_tensor = torch.concat(all_motion_data, dim=0)\n",
    "    audio_tensor = torch.concat(all_audio_data, dim=0)\n",
    "    shape_tensor = torch.concat(all_shape_data, dim=0)\n",
    "    mouth_tensor = torch.concat(all_mouth_data, dim=0)\n",
    "    \n",
    "    # print(f\"audio loaded from disk. tensor shape: {audio_tensor.shape}\")\n",
    "    # print(f\"motion loaded from disk. tensor shape: {motion_tensor.shape}\")\n",
    "    \n",
    "    return motion_tensor, audio_tensor, shape_tensor, mouth_tensor\n",
    "\n",
    "@torch.no_grad()\n",
    "def process_motion_tensor(motion_tensor, audio_tensor, latent_type='exp', latent_mask_1=None, latent_bound=None):\n",
    "    device = motion_tensor.device\n",
    "    n_batches, seq_len, _ = motion_tensor.shape\n",
    "    all_in_bound = torch.ones(n_batches, seq_len, dtype=torch.bool)\n",
    "    \n",
    "    # Extract each component\n",
    "    kp = motion_tensor[:, :, :63]\n",
    "    exp = motion_tensor[:, :, 63:126]\n",
    "    translation = motion_tensor[:, :, 126:129]\n",
    "    orientation = motion_tensor[:, :, 129:132]\n",
    "    scale = motion_tensor[:, :, 132:133]\n",
    "    eye_open_ratio = motion_tensor[:, :, 133:135]\n",
    "    mouth_open_ratio = motion_tensor[:, :, 135:136]\n",
    "\n",
    "        \n",
    "    if latent_type == 'exp':\n",
    "        '''\n",
    "        Use exp for motion representation\n",
    "        '''\n",
    "        \n",
    "        motion_tensor = torch.tensor([])\n",
    "        exp = exp.reshape(n_batches, seq_len, -1)\n",
    "        if latent_mask_1 is not None:\n",
    "            for i, d in enumerate(latent_mask_1):\n",
    "                if i == 0:\n",
    "                    motion_tensor = exp[:, :, d:d+1]\n",
    "                else:\n",
    "                    motion_tensor = torch.cat([motion_tensor, exp[:, :, d:d+1]], dim=2)\n",
    "            motion_tensor = motion_tensor.reshape(n_batches, seq_len, -1)\n",
    "        # compute canonical shape kp, using the first frame kp\n",
    "        first_frame_kp = kp[:, 0, :].squeeze(1)\n",
    "        \n",
    "        # Compute the median of mouth_open_ratio\n",
    "        median_mouth_open_ratio = torch.median(mouth_open_ratio)\n",
    "        mouth_open_ratio = median_mouth_open_ratio.expand(n_batches, 1)\n",
    "        \n",
    "        if latent_bound is not None:\n",
    "            latent_bound = torch.tensor(latent_bound)\n",
    "            assert len(latent_bound.shape)==1 and \\\n",
    "                latent_bound.shape[0] == len(latent_mask_1) * 2 # each point has 3 dim, each has min max bound\n",
    "            latent_bound = latent_bound.reshape(len(latent_mask_1), 2)\n",
    "                \n",
    "            clamp_mode = True\n",
    "            if clamp_mode:\n",
    "                clamped_motion_tensor = torch.zeros_like(motion_tensor)\n",
    "                clamped_audio_tensor = audio_tensor\n",
    "                clamped_first_frame_kp = first_frame_kp\n",
    "                for i, bound in enumerate(latent_bound):\n",
    "                    lower_bound = latent_bound[i][0]\n",
    "                    upper_bound = latent_bound[i][1]\n",
    "                    clamped_motion_tensor[:, :, i] = torch.clamp(motion_tensor[:, :, i], min=lower_bound, max=upper_bound)\n",
    "            else:\n",
    "                # try clamp and discard outliers\n",
    "                # motion_tensor = torch.clamp(motion_tensor, min=latent_bound[0], max=latent_bound[1]) \n",
    "                for i, bound in enumerate(latent_bound):\n",
    "                    all_in_bound = all_in_bound & (motion_tensor[:, :, i] >= bound[0]) & (motion_tensor[:, :, i] <= bound[1])\n",
    "                clamped_motion_tensor = motion_tensor[all_in_bound.all(dim=1)]\n",
    "                clamped_audio_tensor = audio_tensor[all_in_bound.all(dim=1)]\n",
    "                clamped_first_frame_kp = first_frame_kp[all_in_bound.all(dim=1)]\n",
    "            # print(f\"Loaded batch {n_batches}, clamped to {clamped_motion_tensor.shape}\")\n",
    "            return clamped_motion_tensor, clamped_audio_tensor, clamped_first_frame_kp, mouth_open_ratio\n",
    "        else:\n",
    "            return motion_tensor, audio_tensor, first_frame_kp, mouth_open_ratio\n"
   ]
  },
  {
   "cell_type": "code",
   "execution_count": 2,
   "metadata": {},
   "outputs": [],
   "source": [
    "audio_root = '/mnt/e/data/live_latent/audio_latent/'\n",
    "motion_root = '/mnt/e/data/live_latent/motion_temp/'\n",
    "hdtf_root = '/mnt/e/data/live_latent/hdtf/live_latent/'\n",
    "hdtf_audio_root = '/mnt/e/data/live_latent/hdtf/audio_latent/'\n",
    "start_idx = 0\n",
    "end_idx = 400\n",
    "hdtf_start_idx = 0\n",
    "hdtf_end_idx = 337"
   ]
  },
  {
   "cell_type": "code",
   "execution_count": 74,
   "metadata": {},
   "outputs": [
    {
     "name": "stderr",
     "output_type": "stream",
     "text": [
      "Processing directories:   0%|          | 0/400 [00:00<?, ?it/s]"
     ]
    },
    {
     "name": "stderr",
     "output_type": "stream",
     "text": [
      "Processing directories: 100%|██████████| 400/400 [01:00<00:00,  6.56it/s]\n"
     ]
    }
   ],
   "source": [
    "latent_mask_1 = [ 4, 6, 7, 22, 33, 34, 40, 43, 45, 46, 48, 51, 52, 53, 57, 58, 59, 60, 61, 62 ] # deleted 49,\n",
    "loss_weight   = [ 1, 1, 1, 1,  2,  3,  1,  1,  2,  3,  2,  1,  1,  1,  1,  2,  1,  1,  3,  1, ]\n",
    "latent_bound_list =[\n",
    "        -0.05029296875,        0.0857086181640625,   -0.07587742805480957,  0.058624267578125,   -0.0004341602325439453,  0.00019466876983642578, \n",
    "        -0.038482666015625,    0.0345458984375,      -0.030120849609375,    0.038360595703125,   -3.0279159545898438e-05, 1.3887882232666016e-05,\n",
    "        -0.0364990234375,      0.036102294921875,    -0.043212890625,       0.046844482421875,   -4.3332576751708984e-05, 1.8775463104248047e-05, \n",
    "        -0.03326416015625,     0.057373046875,       -0.03460693359375,     0.031707763671875,   -0.0001958608627319336,  0.0005192756652832031,\n",
    "        -0.0728759765625,      0.0587158203125,      -0.04840087890625,     0.039642333984375,   -0.00025916099548339844, 0.00048089027404785156, \n",
    "        -0.09722900390625,     0.12469482421875,     -0.1556396484375,      0.09326171875,       -0.00018024444580078125, 0.00037860870361328125,\n",
    "        -0.0279384758323431,   0.010650634765625,    -0.039306640625,       0.03802490234375,    -1.049041748046875e-05,  3.6954879760742188e-06, \n",
    "        -0.032989501953125,    0.044281005859375,    -0.037261962890625,    0.0433349609375,     -0.00022792529489379376, 0.0003247261047363281,\n",
    "        -0.0288234855979681,   0.006015777587890625, -0.0108795166015625,   0.0134124755859375,  -7.784366607666016e-05,  5.2034854888916016e-05, \n",
    "        -0.01531982421875,     0.027801513671875,    -0.036041259765625,    0.0242156982421875,  -8.83340835571289e-05,   2.6464462280273438e-05,\n",
    "        -0.06463623046875,     0.0303802490234375,   -0.0446159653365612,   0.03619384765625,    -0.02947998046875,       0.030792236328125, \n",
    "        -0.0159145500510931,   0.018890380859375,    -0.01898193359375,     0.0264739990234375,  -6.103515625e-05,        3.266334533691406e-05,\n",
    "        -0.0094450069591403,   0.00604248046875,     -0.005710510071367025, 0.00557708740234375, -2.866983413696289e-05,  1.4543533325195312e-05, \n",
    "        -0.0265350341796875,   0.01186370849609375,  -0.0227047111839056,   0.01386260986328125, -0.000133514404296875,   6.687641143798828e-05, \n",
    "        -0.01129150390625,     0.01331329345703125,  -0.0251922607421875,   0.0195465087890625,  -8.285045623779297e-06,  6.079673767089844e-06, \n",
    "        -0.0141599727794528,   0.018341064453125,    -0.0189971923828125,   0.029296875,         -6.049728108337149e-05,  3.057718276977539e-05, \n",
    "        -0.01216888427734375,  0.02069091796875,     -0.016754150390625,    0.017974853515625,   -0.00014078617095947266, 6.842613220214844e-05, \n",
    "        -0.01910400390625,     0.016204833984375,    -0.025634765625,       0.04150390625,       -0.0100250244140625,     0.00991058349609375, \n",
    "        -0.005596160888671875, 0.01132965087890625,  -0.0269775390625,      0.02166748046875,    -0.000362396240234375,   9.059906005859375e-05,\n",
    "        -0.0325927734375,      0.038818359375,       -0.05877685546875,     0.076416015625,      -0.02215576171875,       0.019775390625, \n",
    "         -0.0219573974609375,  0.0247344970703125,   -0.039764404296875,    0.045,               -0.01512908935546875,    0.017730712890625,    ]\n",
    "vox_motion_latents, vox_audio_latents, _, _ = load_npy_files(audio_root, motion_root, start_idx, end_idx, 'exp', latent_mask_1, latent_bound_list)"
   ]
  },
  {
   "cell_type": "code",
   "execution_count": 87,
   "metadata": {},
   "outputs": [],
   "source": [
    "# latent_mask = [i for i in range(57, 63)]\n",
    "latent_mask = [i for i in range(0, 9)]\n",
    "\n",
    "# picked_vox_motion_latents = vox_motion_latents[:,:, latent_mask]"
   ]
  },
  {
   "cell_type": "code",
   "execution_count": 88,
   "metadata": {},
   "outputs": [],
   "source": [
    "# hdtf_audio_latents, hdtf_motion_latents = load_npy_files(hdtf_audio_root, hdtf_root, hdtf_start_idx, hdtf_end_idx)\n",
    "# hdtf_motion_latents, hdtf_audio_latents, _= process_motion_tensor(hdtf_motion_latents,hdtf_audio_latents, 'exp', latent_mask_1 = latent_mask)"
   ]
  },
  {
   "cell_type": "markdown",
   "metadata": {},
   "source": [
    "##### Load into motion latents"
   ]
  },
  {
   "cell_type": "code",
   "execution_count": 89,
   "metadata": {},
   "outputs": [
    {
     "name": "stdout",
     "output_type": "stream",
     "text": [
      "torch.Size([25707, 75, 9])\n"
     ]
    }
   ],
   "source": [
    "# motion_latents = torch.cat([vox_motion_latents, hdtf_motion_latents], dim=0)\n",
    "motion_latents = torch.cat([vox_motion_latents], dim=0)\n",
    "print(motion_latents.shape)"
   ]
  },
  {
   "cell_type": "markdown",
   "metadata": {},
   "source": [
    "### 1. Plot raw latents distribution"
   ]
  },
  {
   "cell_type": "markdown",
   "metadata": {},
   "source": [
    "1.1 Show quantile"
   ]
  },
  {
   "cell_type": "code",
   "execution_count": 90,
   "metadata": {},
   "outputs": [],
   "source": [
    "# for i in range(len(latent_mask)):\n",
    "#     quantiles = torch.quantile(motion_latents[:, :, i], torch.tensor([0.0, 0.005, 0.1, 0.25, 0.5, 0.75, 0.9, 0.995, 1.0]))\n",
    "#     std = torch.std(motion_latents[:, :, i])\n",
    "#     print(f\"Latent {i}: Quantiles:\\n {quantiles.numpy()},\\n Std: {std.item()}\")"
   ]
  },
  {
   "cell_type": "markdown",
   "metadata": {},
   "source": [
    "1.2 Plot in histgram"
   ]
  },
  {
   "cell_type": "code",
   "execution_count": 91,
   "metadata": {},
   "outputs": [
    {
     "name": "stderr",
     "output_type": "stream",
     "text": [
      "Plotting histograms:   0%|          | 0/9 [00:00<?, ?it/s]"
     ]
    },
    {
     "name": "stdout",
     "output_type": "stream",
     "text": [
      "Plotting feature:  0 , index:  0\n"
     ]
    },
    {
     "name": "stderr",
     "output_type": "stream",
     "text": [
      "Plotting histograms:  11%|█         | 1/9 [00:03<00:28,  3.62s/it]"
     ]
    },
    {
     "name": "stdout",
     "output_type": "stream",
     "text": [
      "Plotted feature:  0 , index:  0\n",
      "Plotting feature:  1 , index:  1\n"
     ]
    },
    {
     "name": "stderr",
     "output_type": "stream",
     "text": [
      "Plotting histograms:  22%|██▏       | 2/9 [00:06<00:24,  3.47s/it]"
     ]
    },
    {
     "name": "stdout",
     "output_type": "stream",
     "text": [
      "Plotted feature:  1 , index:  1\n",
      "Plotting feature:  2 , index:  2\n"
     ]
    },
    {
     "name": "stderr",
     "output_type": "stream",
     "text": [
      "Plotting histograms:  33%|███▎      | 3/9 [00:13<00:29,  4.93s/it]"
     ]
    },
    {
     "name": "stdout",
     "output_type": "stream",
     "text": [
      "Plotted feature:  2 , index:  2\n",
      "Plotting feature:  3 , index:  3\n"
     ]
    },
    {
     "name": "stderr",
     "output_type": "stream",
     "text": [
      "Plotting histograms:  44%|████▍     | 4/9 [00:17<00:22,  4.47s/it]"
     ]
    },
    {
     "name": "stdout",
     "output_type": "stream",
     "text": [
      "Plotted feature:  3 , index:  3\n",
      "Plotting feature:  4 , index:  4\n"
     ]
    },
    {
     "name": "stderr",
     "output_type": "stream",
     "text": [
      "Plotting histograms:  56%|█████▌    | 5/9 [00:20<00:16,  4.14s/it]"
     ]
    },
    {
     "name": "stdout",
     "output_type": "stream",
     "text": [
      "Plotted feature:  4 , index:  4\n",
      "Plotting feature:  5 , index:  5\n"
     ]
    },
    {
     "name": "stderr",
     "output_type": "stream",
     "text": [
      "Plotting histograms:  67%|██████▋   | 6/9 [00:24<00:11,  3.86s/it]"
     ]
    },
    {
     "name": "stdout",
     "output_type": "stream",
     "text": [
      "Plotted feature:  5 , index:  5\n",
      "Plotting feature:  6 , index:  6\n"
     ]
    },
    {
     "name": "stderr",
     "output_type": "stream",
     "text": [
      "Plotting histograms:  78%|███████▊  | 7/9 [00:43<00:17,  8.97s/it]"
     ]
    },
    {
     "name": "stdout",
     "output_type": "stream",
     "text": [
      "Plotted feature:  6 , index:  6\n",
      "Plotting feature:  7 , index:  7\n"
     ]
    },
    {
     "name": "stderr",
     "output_type": "stream",
     "text": [
      "Plotting histograms:  89%|████████▉ | 8/9 [01:02<00:12, 12.12s/it]"
     ]
    },
    {
     "name": "stdout",
     "output_type": "stream",
     "text": [
      "Plotted feature:  7 , index:  7\n",
      "Plotting feature:  8 , index:  8\n"
     ]
    },
    {
     "name": "stderr",
     "output_type": "stream",
     "text": [
      "Plotting histograms: 100%|██████████| 9/9 [01:07<00:00,  7.52s/it]"
     ]
    },
    {
     "name": "stdout",
     "output_type": "stream",
     "text": [
      "Plotted feature:  8 , index:  8\n"
     ]
    },
    {
     "name": "stderr",
     "output_type": "stream",
     "text": [
      "\n"
     ]
    },
    {
     "data": {
      "image/png": "[encoded data removed]",
      "text/plain": [
       "<Figure size 2000x1400 with 12 Axes>"
      ]
     },
     "metadata": {},
     "output_type": "display_data"
    }
   ],
   "source": [
    "# print motion 1\n",
    "import matplotlib.pyplot as plt\n",
    "import seaborn as sns\n",
    "from matplotlib.ticker import ScalarFormatter\n",
    "import pandas as pd\n",
    "from tqdm import tqdm\n",
    "\n",
    "latents_analysis = motion_latents\n",
    "# latents_analysis = aligned_latents\n",
    "latent_dim = len(latent_mask)\n",
    "\n",
    "# Flatten the batch and length dimensions\n",
    "flattened_motion = latents_analysis.view(-1, latents_analysis.shape[-1])\n",
    "\n",
    "# Plot histograms for each feature\n",
    "column_num = 6\n",
    "fig, axes = plt.subplots(latent_dim // column_num + int(latent_dim % column_num != 0), column_num, figsize=(20, 14))\n",
    "axes = axes.flatten()\n",
    "\n",
    "for i, dim in tqdm(enumerate(latent_mask), total=len(latent_mask), desc=\"Plotting histograms\"):\n",
    "    print(\"Plotting feature: \", dim, \", index: \", i)\n",
    "    sns.histplot(flattened_motion[:, dim].numpy(), ax=axes[i], kde=True)\n",
    "    print(\"Plotted feature: \", dim, \", index: \", i)\n",
    "    axes[i].set_title(f'Feature {dim}')\n",
    "    axes[i].set_xlabel('')\n",
    "    axes[i].set_ylabel('')\n",
    "    axes[i].xaxis.set_major_formatter(ScalarFormatter(useMathText=True))\n",
    "    axes[i].yaxis.set_major_formatter(ScalarFormatter(useMathText=True))\n",
    "\n",
    "plt.tight_layout()\n",
    "plt.show()\n",
    "\n",
    "# # Plot box plots for each feature\n",
    "# plt.figure(figsize=(20, 6))\n",
    "# sns.boxplot(data=flattened_motion.numpy())\n",
    "# plt.title('Box Plot of Motion Features')\n",
    "# plt.xlabel('Feature Index')\n",
    "# plt.ylabel('Value')\n",
    "# plt.gca().xaxis.set_major_formatter(ScalarFormatter(useMathText=True))\n",
    "# plt.gca().yaxis.set_major_formatter(ScalarFormatter(useMathText=True))\n",
    "# plt.show()"
   ]
  },
  {
   "cell_type": "markdown",
   "metadata": {},
   "source": [
    "### 2. Clamp at will"
   ]
  },
  {
   "cell_type": "code",
   "execution_count": 94,
   "metadata": {},
   "outputs": [],
   "source": [
    "target = [0.001, 0.001, 0.001, 0.001, 0.001, 0.001, 0.001, 0.001, 0.001]\n",
    "# 0-6 bound\n",
    "# -0.05029296875, 0.0857086181640625, -0.07587742805480957, 0.058624267578125, -0.0004341602325439453, 0.00019466876983642578, \n",
    "#  -0.038482666015625, 0.0345458984375, -0.030120849609375, 0.038360595703125, -3.0279159545898438e-05, 1.3887882232666016e-05,\n",
    "# 6-12 bound\n",
    "# -0.0364990234375, 0.036102294921875, -0.043212890625, 0.046844482421875, -4.3332576751708984e-05, 1.8775463104248047e-05, \n",
    "# -0.03326416015625, 0.057373046875, -0.03460693359375, 0.031707763671875, -0.0001958608627319336, 0.0005192756652832031,\n",
    "# 12-18 bound\n",
    "# -0.0728759765625, 0.0587158203125, -0.04840087890625, 0.039642333984375, -0.00025916099548339844, 0.00048089027404785156, \n",
    "#  -0.09722900390625, 0.12469482421875, -0.1556396484375, 0.09326171875, -0.00018024444580078125, 0.00037860870361328125,\n",
    "# 18-24 bound\n",
    "# -0.0279384758323431, 0.010650634765625, -0.039306640625, 0.03802490234375, -1.049041748046875e-05, 3.6954879760742188e-06, \n",
    "#  -0.032989501953125, 0.044281005859375, -0.037261962890625, 0.0433349609375, -0.00022792529489379376, 0.0003247261047363281,\n",
    "# 24-30 bound\n",
    "# -0.0288234855979681, 0.006015777587890625, -0.0108795166015625, 0.0134124755859375, -7.784366607666016e-05, 5.2034854888916016e-05, \n",
    "#  -0.01531982421875, 0.027801513671875, -0.036041259765625, 0.0242156982421875, -8.83340835571289e-05, 2.6464462280273438e-05,\n",
    "# 30-36 bound\n",
    "# -0.06463623046875, 0.0303802490234375, -0.0446159653365612, 0.03619384765625, -0.02947998046875, 0.030792236328125, -0.0159145500510931, \n",
    "#  0.018890380859375, -0.01898193359375, 0.0264739990234375, -6.103515625e-05, 3.266334533691406e-05\n",
    "# 36-42 bound\n",
    "# -0.0094450069591403, 0.00604248046875, -0.005710510071367025, 0.00557708740234375, -2.866983413696289e-05, 1.4543533325195312e-05, \n",
    "#  -0.0265350341796875, 0.01186370849609375, -0.0227047111839056, 0.01386260986328125, -0.000133514404296875, 6.687641143798828e-05, \n",
    "# 42-48 bound\n",
    "# -0.01129150390625, 0.01331329345703125, -0.0251922607421875, 0.0195465087890625, -8.285045623779297e-06, 6.079673767089844e-06, \n",
    "#  -0.0141599727794528, 0.018341064453125, -0.0189971923828125, 0.029296875, -6.049728108337149e-05, 3.057718276977539e-05, \n",
    "# 48-54 bound\n",
    "# -0.01216888427734375, 0.02069091796875, -0.016754150390625, 0.017974853515625, -0.00014078617095947266, 6.842613220214844e-05, \n",
    "#  -0.01910400390625, 0.016204833984375, -0.025634765625, 0.04150390625, -0.0100250244140625, 0.00991058349609375, \n",
    "#  -0.005596160888671875, 0.01132965087890625, -0.0269775390625, 0.02166748046875, -0.000362396240234375, 9.059906005859375e-05,\n"
   ]
  },
  {
   "cell_type": "code",
   "execution_count": 95,
   "metadata": {},
   "outputs": [
    {
     "name": "stdout",
     "output_type": "stream",
     "text": [
      "tensor([[-1.2169e-02,  2.0691e-02],\n",
      "        [-1.6754e-02,  1.7975e-02],\n",
      "        [-1.4079e-04,  6.8426e-05],\n",
      "        [-1.9104e-02,  1.6205e-02],\n",
      "        [-2.5635e-02,  4.1504e-02],\n",
      "        [-1.0025e-02,  9.9106e-03],\n",
      "        [-5.5962e-03,  1.1330e-02],\n",
      "        [-2.6978e-02,  2.1667e-02],\n",
      "        [-3.6240e-04,  9.0599e-05]])\n",
      "[-0.01216888427734375, 0.02069091796875, -0.016754150390625, 0.017974853515625, -0.00014078617095947266, 6.842613220214844e-05, -0.01910400390625, 0.016204833984375, -0.025634765625, 0.04150390625, -0.0100250244140625, 0.00991058349609375, -0.005596160888671875, 0.01132965087890625, -0.0269775390625, 0.02166748046875, -0.000362396240234375, 9.059906005859375e-05]\n"
     ]
    }
   ],
   "source": [
    "# Pick a target, generate all_bounds\n",
    "all_bounds = torch.zeros(len(latent_mask), 2)\n",
    "for i in range(len(latent_mask)):\n",
    "    quantiles = torch.quantile(motion_latents[:, :, latent_mask[i]], torch.tensor([target[i], 1-target[i]]))\n",
    "    all_bounds[i] = quantiles\n",
    "print(all_bounds)\n",
    "print([tensor.item() for tensor in all_bounds.reshape(-1)])"
   ]
  },
  {
   "cell_type": "code",
   "execution_count": 96,
   "metadata": {},
   "outputs": [],
   "source": [
    "# Get all items in bounds if neede to ( deprecated )\n",
    "\n",
    "\n",
    "# all_in_bound = torch.ones(motion_latents.shape[0], motion_latents.shape[1], dtype=torch.bool)\n",
    "# for i in range(len(latent_mask)):\n",
    "#     all_in_bound &= (motion_latents[:, :, i] >= all_bounds[i][0]) & (motion_latents[:, :, i] <= all_bounds[i][1])\n",
    "\n",
    "# print(all_in_bound.shape)\n",
    "# print(all_in_bound.sum())\n",
    "# print(motion_latents.shape[0] * motion_latents.shape[1])\n",
    "\n",
    "# # Count the number of entries in dim 0 its entries in dim 1 and 2 are all ones\n",
    "# entries_in_bound_dim0 = all_in_bound.all(dim=1).sum()\n",
    "# print(entries_in_bound_dim0)\n",
    "\n",
    "# Count how many of the last dim is full of zeros and drop them\n",
    "# clamped_motion_latents = clamped_motion_latents.reshape(-1, clamped_motion_latents.shape[-1])\n",
    "# non_zero_mask = ~(clamped_motion_latents == 0).all(dim=-1)\n",
    "# clamped_motion_latents = clamped_motion_latents[non_zero_mask]\n",
    "\n",
    "# # Count the number of dropped vectors\n",
    "# dropped_count = (~non_zero_mask).sum().item()\n",
    "# print(f\"Number of vectors dropped (all zeros in last dimension): {dropped_count}\")\n",
    "\n",
    "# # Display the original and new shapes for reference\n",
    "# print(f\"Original shape: {clamped_motion_latents.shape[0] + dropped_count, clamped_motion_latents.shape[1]}\")\n",
    "# print(f\"New shape after dropping zero vectors: {clamped_motion_latents.shape}\")\n"
   ]
  },
  {
   "cell_type": "code",
   "execution_count": 97,
   "metadata": {},
   "outputs": [],
   "source": [
    "# Clamp motion tensor to boundary\n",
    "clamped_motion_latents = torch.zeros_like(motion_latents)\n",
    "\n",
    "for i in range(len(latent_mask)):\n",
    "    lower_bound = all_bounds[i][0]\n",
    "    upper_bound = all_bounds[i][1]\n",
    "    clamped_motion_latents[:, :, latent_mask[i]] = torch.clamp(motion_latents[:, :, latent_mask[i]], min=lower_bound, max=upper_bound)"
   ]
  },
  {
   "cell_type": "code",
   "execution_count": 98,
   "metadata": {},
   "outputs": [
    {
     "data": {
      "text/plain": [
       "'\\nimport matplotlib.pyplot as plt\\nimport seaborn as sns\\nimport pandas as pd\\n\\nlatents_analysis = audio_latents[:, :, :]\\nlatent_dim = latents_analysis.shape[-1]\\n\\n# Flatten the batch and length dimensions\\nflattened_motion = latents_analysis.view(-1, latent_dim)\\n\\n# Calculate basic statistics\\nmean = flattened_motion.mean(dim=0)\\nstd = flattened_motion.std(dim=0)\\nmin_vals = flattened_motion.min(dim=0).values\\nmax_vals = flattened_motion.max(dim=0).values\\n\\n# Calculate absolute magnitude statistics\\nabs_flattened_motion = flattened_motion.abs()\\nabs_mean = abs_flattened_motion.mean(dim=0)\\nabs_std = abs_flattened_motion.std(dim=0)\\nabs_min_vals = abs_flattened_motion.min(dim=0).values\\nabs_max_vals = abs_flattened_motion.max(dim=0).values\\n\\n# Create a summary dataframe\\nsummary = pd.DataFrame({\\n    \\'Mean\\': mean.numpy(),\\n    \\'Std\\': std.numpy(),\\n    \\'Min\\': min_vals.numpy(),\\n    \\'Max\\': max_vals.numpy(),\\n    \\'Abs Mean\\': abs_mean.numpy(),\\n    \\'Abs Std\\': abs_std.numpy(),\\n    \\'Abs Min\\': abs_min_vals.numpy(),\\n    \\'Abs Max\\': abs_max_vals.numpy()\\n})\\n\\n# Set display options to show all rows and columns\\npd.set_option(\\'display.max_rows\\', None)\\npd.set_option(\\'display.max_columns\\', None)\\npd.set_option(\\'display.width\\', None)\\npd.set_option(\\'display.max_colwidth\\', None)\\n\\n# Print the full summary\\nprint(summary.to_string())\\n\\n# # Plot histograms for each feature\\n# fig, axes = plt.subplots(latent_dim // 10 + int(latent_dim % 10 != 0), 10, figsize=(20, 14))\\n# axes = axes.flatten()\\n\\n# for i in tqdm(range(latent_dim), desc=\"Plotting histograms\"):\\n#     sns.histplot(flattened_motion[:, i].numpy(), ax=axes[i], kde=True)\\n#     axes[i].set_title(f\\'Feature {i}\\')\\n#     axes[i].set_xlabel(\\'\\')\\n#     axes[i].set_ylabel(\\'\\')\\n#     axes[i].xaxis.set_major_formatter(ScalarFormatter(useMathText=True))\\n#     axes[i].yaxis.set_major_formatter(ScalarFormatter(useMathText=True))\\n\\n# plt.tight_layout()\\n# plt.show()\\n\\n# # Plot box plots for each feature\\n# plt.figure(figsize=(20, 6))\\n# sns.boxplot(data=flattened_motion.numpy())\\n# plt.title(\\'Box Plot of Motion Features\\')\\n# plt.xlabel(\\'Feature Index\\')\\n# plt.ylabel(\\'Value\\')\\n# plt.gca().xaxis.set_major_formatter(ScalarFormatter(useMathText=True))\\n# plt.gca().yaxis.set_major_formatter(ScalarFormatter(useMathText=True))\\n# plt.show()\\n'"
      ]
     },
     "execution_count": 98,
     "metadata": {},
     "output_type": "execute_result"
    }
   ],
   "source": [
    "# print audio latents analysis ( deprecated )\n",
    "'''\n",
    "import matplotlib.pyplot as plt\n",
    "import seaborn as sns\n",
    "import pandas as pd\n",
    "\n",
    "latents_analysis = audio_latents[:, :, :]\n",
    "latent_dim = latents_analysis.shape[-1]\n",
    "\n",
    "# Flatten the batch and length dimensions\n",
    "flattened_motion = latents_analysis.view(-1, latent_dim)\n",
    "\n",
    "# Calculate basic statistics\n",
    "mean = flattened_motion.mean(dim=0)\n",
    "std = flattened_motion.std(dim=0)\n",
    "min_vals = flattened_motion.min(dim=0).values\n",
    "max_vals = flattened_motion.max(dim=0).values\n",
    "\n",
    "# Calculate absolute magnitude statistics\n",
    "abs_flattened_motion = flattened_motion.abs()\n",
    "abs_mean = abs_flattened_motion.mean(dim=0)\n",
    "abs_std = abs_flattened_motion.std(dim=0)\n",
    "abs_min_vals = abs_flattened_motion.min(dim=0).values\n",
    "abs_max_vals = abs_flattened_motion.max(dim=0).values\n",
    "\n",
    "# Create a summary dataframe\n",
    "summary = pd.DataFrame({\n",
    "    'Mean': mean.numpy(),\n",
    "    'Std': std.numpy(),\n",
    "    'Min': min_vals.numpy(),\n",
    "    'Max': max_vals.numpy(),\n",
    "    'Abs Mean': abs_mean.numpy(),\n",
    "    'Abs Std': abs_std.numpy(),\n",
    "    'Abs Min': abs_min_vals.numpy(),\n",
    "    'Abs Max': abs_max_vals.numpy()\n",
    "})\n",
    "\n",
    "# Set display options to show all rows and columns\n",
    "pd.set_option('display.max_rows', None)\n",
    "pd.set_option('display.max_columns', None)\n",
    "pd.set_option('display.width', None)\n",
    "pd.set_option('display.max_colwidth', None)\n",
    "\n",
    "# Print the full summary\n",
    "print(summary.to_string())\n",
    "\n",
    "# # Plot histograms for each feature\n",
    "# fig, axes = plt.subplots(latent_dim // 10 + int(latent_dim % 10 != 0), 10, figsize=(20, 14))\n",
    "# axes = axes.flatten()\n",
    "\n",
    "# for i in tqdm(range(latent_dim), desc=\"Plotting histograms\"):\n",
    "#     sns.histplot(flattened_motion[:, i].numpy(), ax=axes[i], kde=True)\n",
    "#     axes[i].set_title(f'Feature {i}')\n",
    "#     axes[i].set_xlabel('')\n",
    "#     axes[i].set_ylabel('')\n",
    "#     axes[i].xaxis.set_major_formatter(ScalarFormatter(useMathText=True))\n",
    "#     axes[i].yaxis.set_major_formatter(ScalarFormatter(useMathText=True))\n",
    "\n",
    "# plt.tight_layout()\n",
    "# plt.show()\n",
    "\n",
    "# # Plot box plots for each feature\n",
    "# plt.figure(figsize=(20, 6))\n",
    "# sns.boxplot(data=flattened_motion.numpy())\n",
    "# plt.title('Box Plot of Motion Features')\n",
    "# plt.xlabel('Feature Index')\n",
    "# plt.ylabel('Value')\n",
    "# plt.gca().xaxis.set_major_formatter(ScalarFormatter(useMathText=True))\n",
    "# plt.gca().yaxis.set_major_formatter(ScalarFormatter(useMathText=True))\n",
    "# plt.show()\n",
    "'''"
   ]
  },
  {
   "cell_type": "code",
   "execution_count": 99,
   "metadata": {},
   "outputs": [
    {
     "data": {
      "text/plain": [
       "torch.Size([25707, 75, 9])"
      ]
     },
     "execution_count": 99,
     "metadata": {},
     "output_type": "execute_result"
    }
   ],
   "source": [
    "clamped_motion_latents.shape"
   ]
  },
  {
   "cell_type": "code",
   "execution_count": 100,
   "metadata": {},
   "outputs": [
    {
     "name": "stdout",
     "output_type": "stream",
     "text": [
      "torch.Size([1928025, 9])\n"
     ]
    },
    {
     "name": "stderr",
     "output_type": "stream",
     "text": [
      "Plotting histograms: 100%|██████████| 9/9 [00:39<00:00,  4.41s/it]\n"
     ]
    },
    {
     "data": {
      "image/png": "[encoded data removed]",
      "text/plain": [
       "<Figure size 2000x1400 with 12 Axes>"
      ]
     },
     "metadata": {},
     "output_type": "display_data"
    }
   ],
   "source": [
    "# print motion 1\n",
    "import matplotlib.pyplot as plt\n",
    "import seaborn as sns\n",
    "from matplotlib.ticker import ScalarFormatter\n",
    "import pandas as pd\n",
    "from tqdm import tqdm\n",
    "\n",
    "latents_analysis = clamped_motion_latents\n",
    "# latents_analysis = aligned_latents\n",
    "latent_dim = len(latent_mask)\n",
    "\n",
    "# Flatten the batch and length dimensions\n",
    "flattened_motion = latents_analysis.view(-1, latents_analysis.shape[-1])\n",
    "print(flattened_motion.shape)\n",
    "# # Calculate basic statistics\n",
    "# mean = flattened_motion.mean(dim=0)\n",
    "# std = flattened_motion.std(dim=0)\n",
    "# min_vals = flattened_motion.min(dim=0).values\n",
    "# max_vals = flattened_motion.max(dim=0).values\n",
    "\n",
    "# # Calculate absolute magnitude statistics\n",
    "# abs_flattened_motion = flattened_motion.abs()\n",
    "# abs_mean = abs_flattened_motion.mean(dim=0)\n",
    "# abs_std = abs_flattened_motion.std(dim=0)\n",
    "# abs_min_vals = abs_flattened_motion.min(dim=0).values\n",
    "# abs_max_vals = abs_flattened_motion.max(dim=0).values\n",
    "\n",
    "# # Create a summary dataframe\n",
    "# summary = pd.DataFrame({\n",
    "#     'Mean': mean.numpy(),\n",
    "#     'Std': std.numpy(),\n",
    "#     'Min': min_vals.numpy(),\n",
    "#     'Max': max_vals.numpy(),\n",
    "#     'Abs Mean': abs_mean.numpy(),\n",
    "#     'Abs Std': abs_std.numpy(),\n",
    "#     'Abs Min': abs_min_vals.numpy(),\n",
    "#     'Abs Max': abs_max_vals.numpy()\n",
    "# })\n",
    "\n",
    "# # Set display options to show all rows and columns\n",
    "# pd.set_option('display.max_rows', None)\n",
    "# pd.set_option('display.max_columns', None)\n",
    "# pd.set_option('display.width', None)\n",
    "# pd.set_option('display.max_colwidth', None)\n",
    "\n",
    "# # Print the full summary\n",
    "# print(summary.to_string())\n",
    "\n",
    "# Plot histograms for each feature\n",
    "column_num = 6\n",
    "fig, axes = plt.subplots(latent_dim // column_num + int(latent_dim % column_num != 0), column_num, figsize=(20, 14))\n",
    "axes = axes.flatten()\n",
    "\n",
    "for i, dim in tqdm(enumerate(latent_mask), total=len(latent_mask), desc=\"Plotting histograms\"):\n",
    "    sns.histplot(flattened_motion[:, dim].numpy(), ax=axes[i], kde=True)\n",
    "    axes[i].set_title(f'Feature {dim}')\n",
    "    axes[i].set_xlabel('')\n",
    "    axes[i].set_ylabel('')\n",
    "    axes[i].xaxis.set_major_formatter(ScalarFormatter(useMathText=True))\n",
    "    axes[i].yaxis.set_major_formatter(ScalarFormatter(useMathText=True))\n",
    "\n",
    "plt.tight_layout()\n",
    "plt.show()\n",
    "\n",
    "# # Plot box plots for each feature\n",
    "# plt.figure(figsize=(20, 6))\n",
    "# sns.boxplot(data=flattened_motion.numpy())\n",
    "# plt.title('Box Plot of Motion Features')\n",
    "# plt.xlabel('Feature Index')\n",
    "# plt.ylabel('Value')\n",
    "# plt.gca().xaxis.set_major_formatter(ScalarFormatter(useMathText=True))\n",
    "# plt.gca().yaxis.set_major_formatter(ScalarFormatter(useMathText=True))\n",
    "# plt.show()"
   ]
  },
  {
   "cell_type": "markdown",
   "metadata": {},
   "source": [
    "### 3. Deprecated Hard scaling. Likely Won't need.\n"
   ]
  },
  {
   "cell_type": "code",
   "execution_count": 101,
   "metadata": {},
   "outputs": [
    {
     "ename": "SyntaxError",
     "evalue": "cannot assign to literal here. Maybe you meant '==' instead of '='? (3220323381.py, line 2)",
     "output_type": "error",
     "traceback": [
      "\u001b[0;36m  Cell \u001b[0;32mIn[101], line 2\u001b[0;36m\u001b[0m\n\u001b[0;31m    1 = 1\u001b[0m\n\u001b[0m    ^\u001b[0m\n\u001b[0;31mSyntaxError\u001b[0m\u001b[0;31m:\u001b[0m cannot assign to literal here. Maybe you meant '==' instead of '='?\n"
     ]
    }
   ],
   "source": [
    "# Break execution\n",
    "1 = 1"
   ]
  },
  {
   "cell_type": "code",
   "execution_count": null,
   "metadata": {},
   "outputs": [],
   "source": [
    "import numpy as np\n",
    "import torch\n",
    "\n",
    "# Assuming abs_std is already defined\n",
    "# abs_std = torch.randn(70)  # Example tensor, replace with your actual tensor\n",
    "\n",
    "# Define the bins in logarithmic scale from 1e-1 to 1e-8\n",
    "bins = np.logspace(-1, -8, num=8)\n",
    "\n",
    "# Digitize the abs_std values into the defined bins\n",
    "bin_indices = np.digitize(abs_std[:63].numpy(), bins)\n",
    "\n",
    "# Create a list to store indices for each bin\n",
    "bin_index_lists = [[] for _ in range(len(bins) + 1)]\n",
    "\n",
    "# Populate the bin_index_lists\n",
    "for idx, bin_idx in enumerate(bin_indices):\n",
    "    bin_index_lists[bin_idx].append(idx)\n",
    "\n",
    "# Print the bin counts and indices\n",
    "bin_counts = np.bincount(bin_indices, minlength=len(bins) + 1)\n",
    "for i, (count, indices) in enumerate(zip(bin_counts, bin_index_lists)):\n",
    "    if i == 0:\n",
    "        print(f\"< {bins[0]:.1e}: {count}\")\n",
    "    elif i == len(bins):\n",
    "        print(f\">= {bins[-1]:.1e}: {count}\")\n",
    "    else:\n",
    "        print(f\"{bins[i-1]:.1e} - {bins[i]:.1e}: {count}\")\n",
    "    print(f\"Indices: {indices}\")\n",
    "    print()"
   ]
  },
  {
   "cell_type": "code",
   "execution_count": null,
   "metadata": {},
   "outputs": [],
   "source": [
    "latents_analysis = motion_latents\n",
    "latent_dim = latents_analysis.shape[-1]\n",
    "\n",
    "# Flatten the batch and length dimensions\n",
    "flattened_motion = latents_analysis.view(-1, latent_dim)\n",
    "\n",
    "flattened_motion.shape"
   ]
  },
  {
   "cell_type": "code",
   "execution_count": null,
   "metadata": {},
   "outputs": [],
   "source": [
    "def normalize_features(features):\n",
    "    # Step 1: Standardize (mean=0, std=1)\n",
    "    mean = features.mean(dim=0, keepdim=True)\n",
    "    std = features.std(dim=0, keepdim=True)\n",
    "    standardized = (features - mean) / (std + 1e-8)\n",
    "    \n",
    "    # Step 2: Min-max scaling to [0, 1]\n",
    "    # min_vals = standardized.min(dim=0, keepdim=True)[0]\n",
    "    # max_vals = standardized.max(dim=0, keepdim=True)[0]\n",
    "    # normalized = (standardized - min_vals) / (max_vals - min_vals + 1e-8)\n",
    "    \n",
    "    return standardized\n",
    "\n",
    "flattened_motion = normalize_features(flattened_motion)"
   ]
  },
  {
   "cell_type": "code",
   "execution_count": null,
   "metadata": {},
   "outputs": [],
   "source": [
    "import matplotlib.pyplot as plt\n",
    "import seaborn as sns\n",
    "\n",
    "latents_analysis = motion_latents\n",
    "\n",
    "# Flatten the batch and length dimensions\n",
    "flattened_motion = latents_analysis.view(-1, latent_dim)\n",
    "flattened_motion = flattened_motion[:, :63]\n",
    "latent_dim = flattened_motion.shape[-1]\n",
    "# Calculate basic statistics\n",
    "mean = flattened_motion.mean(dim=0)\n",
    "std = flattened_motion.std(dim=0)\n",
    "min_vals = flattened_motion.min(dim=0).values\n",
    "max_vals = flattened_motion.max(dim=0).values\n",
    "\n",
    "# Create a summary dataframe\n",
    "import pandas as pd\n",
    "summary = pd.DataFrame({\n",
    "    'Mean': mean.numpy(),\n",
    "    'Std': std.numpy(),\n",
    "    'Min': min_vals.numpy(),\n",
    "    'Max': max_vals.numpy()\n",
    "})\n",
    "\n",
    "# Set display options to show all rows and columns\n",
    "pd.set_option('display.max_rows', None)\n",
    "pd.set_option('display.max_columns', None)\n",
    "pd.set_option('display.width', None)\n",
    "pd.set_option('display.max_colwidth', None)\n",
    "\n",
    "# Print the full summary\n",
    "print(summary.to_string())\n",
    "\n",
    "# Plot histograms for each feature\n",
    "fig, axes = plt.subplots(latent_dim // 10 + int(latent_dim % 10!=0), 10, figsize=(20, 14))\n",
    "axes = axes.flatten()\n",
    "\n",
    "from tqdm import tqdm\n",
    "for i in tqdm(range(latent_dim), desc=\"Plotting histograms\"):\n",
    "    sns.histplot(flattened_motion[:, i].numpy(), ax=axes[i], kde=True)\n",
    "    axes[i].set_title(f'Feature {i}')\n",
    "    axes[i].set_xlabel('')\n",
    "    axes[i].set_ylabel('')\n",
    "\n",
    "plt.tight_layout()\n",
    "plt.show()\n",
    "\n",
    "# Plot box plots for each feature\n",
    "plt.figure(figsize=(20, 6))\n",
    "sns.boxplot(data=flattened_motion.numpy())\n",
    "plt.title('Box Plot of Motion Features')\n",
    "plt.xlabel('Feature Index')\n",
    "plt.ylabel('Value')\n",
    "plt.show()"
   ]
  },
  {
   "cell_type": "code",
   "execution_count": null,
   "metadata": {},
   "outputs": [],
   "source": [
    "y=flattened_motion[:, 24]"
   ]
  },
  {
   "cell_type": "code",
   "execution_count": null,
   "metadata": {},
   "outputs": [],
   "source": [
    "import numpy as np\n",
    "\n",
    "def count_distribution(y, bins):\n",
    "    pos_bins = np.array(bins)\n",
    "    neg_bins = -pos_bins[::-1]\n",
    "    all_bins = np.concatenate([neg_bins, [0], pos_bins])\n",
    "    \n",
    "    counts, _ = np.histogram(y, bins=all_bins)\n",
    "    \n",
    "    bin_labels = [f\"-{b}\" for b in bins[::-1]] + [\"0\"] + [f\"+{b}\" for b in bins]\n",
    "    \n",
    "    for label, count in zip(bin_labels, counts):\n",
    "        print(f\"{label}: {count}\")\n",
    "\n",
    "    return counts, bin_labels\n",
    "\n",
    "# Define the bins\n",
    "bins = [0.1, 0.2, 0.5, 1, 2, 5, 10, 20]\n",
    "\n",
    "# Get the data for feature 24\n",
    "y = flattened_motion[:, 24].numpy()\n",
    "\n",
    "# Count the distribution\n",
    "counts, labels = count_distribution(y, bins)\n",
    "\n",
    "# Optionally, you can plot the distribution\n",
    "import matplotlib.pyplot as plt\n",
    "\n",
    "plt.figure(figsize=(12, 6))\n",
    "plt.bar(labels, counts)\n",
    "plt.title('Distribution of Feature 24')\n",
    "plt.xlabel('Bins')\n",
    "plt.ylabel('Count')\n",
    "plt.xticks(rotation=45)\n",
    "plt.tight_layout()\n",
    "plt.show()"
   ]
  },
  {
   "cell_type": "code",
   "execution_count": null,
   "metadata": {},
   "outputs": [],
   "source": [
    "# Plot feature 24\n",
    "plt.figure(figsize=(12, 6))\n",
    "sns.histplot(flattened_motion[:, 24].numpy(), kde=True)\n",
    "plt.title('Distribution of Feature 24')\n",
    "plt.xlabel('Value')\n",
    "plt.ylabel('Frequency')\n",
    "plt.show()\n",
    "\n",
    "# Box plot for feature 24\n",
    "plt.figure(figsize=(8, 6))\n",
    "sns.boxplot(y=flattened_motion[:, 24].numpy())\n",
    "plt.title('Box Plot of Feature 24')\n",
    "plt.ylabel('Value')\n",
    "plt.show()\n",
    "\n",
    "# Print summary statistics for feature 24\n",
    "feature_24_summary = summary.iloc[24]\n",
    "print(\"Summary statistics for Feature 24:\")\n",
    "print(feature_24_summary)\n"
   ]
  },
  {
   "cell_type": "code",
   "execution_count": null,
   "metadata": {},
   "outputs": [],
   "source": [
    "def normalize_features(features):\n",
    "    mean = features.mean(dim=0, keepdim=True)\n",
    "    std = features.std(dim=0, keepdim=True)\n",
    "    return (features - mean) / (std + 1e-8)  # Add small epsilon to avoid division by zero\n",
    "\n",
    "normalized_features = normalize_features(all_coefs['shape'])"
   ]
  },
  {
   "cell_type": "code",
   "execution_count": null,
   "metadata": {},
   "outputs": [],
   "source": [
    "import pandas as pd\n",
    "import numpy as np\n",
    "import torch\n",
    "\n",
    "# Set display options to show all rows\n",
    "pd.set_option('display.max_rows', None)\n",
    "pd.set_option('display.max_columns', None)\n",
    "pd.set_option('display.width', None)\n",
    "pd.set_option('display.max_colwidth', None)\n",
    "\n",
    "# Calculate statistics\n",
    "mean = flattened_motion.mean(dim=0)\n",
    "std = flattened_motion.std(dim=0)\n",
    "min_vals = flattened_motion.min(dim=0).values\n",
    "max_vals = flattened_motion.max(dim=0).values\n",
    "median = flattened_motion.median(dim=0).values  # Use .values to get the tensor\n",
    "percentile_25 = torch.quantile(flattened_motion, 0.25, dim=0)\n",
    "percentile_75 = torch.quantile(flattened_motion, 0.75, dim=0)\n",
    "\n",
    "# Create the summary DataFrame\n",
    "summary = pd.DataFrame({\n",
    "    'Mean': mean.numpy(),\n",
    "    'Std': std.numpy(),\n",
    "    'Min': min_vals.numpy(),\n",
    "    '25%': percentile_25.numpy(),\n",
    "    'Median': median.numpy(),\n",
    "    '75%': percentile_75.numpy(),\n",
    "    'Max': max_vals.numpy()\n",
    "})\n",
    "\n",
    "# Print the full summary\n",
    "print(summary)\n",
    "\n",
    "# Reset display options to default (optional)\n",
    "pd.reset_option('display.max_rows')\n",
    "pd.reset_option('display.max_columns')\n",
    "pd.reset_option('display.width')\n",
    "pd.reset_option('display.max_colwidth')"
   ]
  },
  {
   "cell_type": "code",
   "execution_count": null,
   "metadata": {},
   "outputs": [],
   "source": [
    "import lmdb\n",
    "import numpy as np\n",
    "import os\n",
    "import pickle\n",
    "import torch\n",
    "from tqdm import tqdm\n",
    "\n",
    "# Specify the directory containing the LMDB file\n",
    "lmdb_dir = '/mnt/e/data/diffposetalk_data/HDTF_TFHP-lmdb/'\n",
    "\n",
    "# Check if the directory exists and contains the necessary files\n",
    "if not os.path.isdir(lmdb_dir):\n",
    "    print(f\"The directory {lmdb_dir} does not exist.\")\n",
    "elif not os.path.isfile(os.path.join(lmdb_dir, 'data.mdb')):\n",
    "    print(f\"The data file 'data.mdb' is missing from {lmdb_dir}\")\n",
    "elif not os.path.isfile(os.path.join(lmdb_dir, 'lock.mdb')):\n",
    "    print(f\"The lock file 'lock.mdb' is missing from {lmdb_dir}\")\n",
    "else:\n",
    "    print(f\"Found LMDB environment in: {lmdb_dir}\")\n",
    "\n",
    "    # Try to open the LMDB environment\n",
    "    # try:\n",
    "    env = lmdb.open(lmdb_dir, readonly=True, lock=False)\n",
    "    \n",
    "    # Start a new read transaction\n",
    "    with env.begin(write=False) as txn:\n",
    "        # Get the number of keys in the database\n",
    "        num_keys = txn.stat()['entries']\n",
    "        print(f\"Number of entries in the database: {num_keys}\")\n",
    "\n",
    "        # Read all entries\n",
    "        all_data = []\n",
    "        cursor = txn.cursor()\n",
    "        for key, value in tqdm(cursor, total=num_keys, desc=\"Reading LMDB\"):\n",
    "            if key == b'metadata':\n",
    "                metadata = pickle.loads(value)\n",
    "                print(\"Metadata:\", metadata)\n",
    "            else:\n",
    "                entry = pickle.loads(value)\n",
    "                all_data.append(entry)\n",
    "\n"
   ]
  },
  {
   "cell_type": "code",
   "execution_count": null,
   "metadata": {},
   "outputs": [],
   "source": [
    "key_count = {}\n",
    "for entry in all_data:\n",
    "    keys = tuple(entry.keys())  # Convert keys to tuple so it can be used as a dictionary key\n",
    "    if keys in key_count:\n",
    "        key_count[keys] += 1\n",
    "    else:\n",
    "        key_count[keys] = 1\n",
    "\n",
    "# Print the results\n",
    "for keys, count in key_count.items():\n",
    "    print(f\"Keys: {keys}, Count: {count}\")"
   ]
  },
  {
   "cell_type": "code",
   "execution_count": null,
   "metadata": {},
   "outputs": [],
   "source": [
    "# Process the data\n",
    "coef_keys = ['shape', 'exp', 'pose']\n",
    "all_coefs = {k: [] for k in coef_keys}\n",
    "all_audio = []\n",
    "\n",
    "for entry in all_data:\n",
    "    if 'coef' in entry.keys():\n",
    "        for k in coef_keys:\n",
    "            all_coefs[k].append(entry['coef'][k])\n",
    "    # Uncomment the following line if you want to process audio data\n",
    "    # all_audio.append(torch.from_numpy(np.frombuffer(entry['audio'], dtype=np.float32)))\n",
    "\n",
    "# Convert to tensors and stack arrays with shape[0] == 100\n",
    "for k in coef_keys:\n",
    "    valid_coefs = [coef for coef in all_coefs[k] if coef.shape[0] == 100]\n",
    "    if valid_coefs:\n",
    "        all_coefs[k] = np.stack(valid_coefs, axis=0)\n",
    "        all_coefs[k] = torch.from_numpy(all_coefs[k])\n",
    "    else:\n",
    "        print(f\"Warning: No valid coefficients found for {k}\")\n",
    "        all_coefs[k] = None\n",
    "\n",
    "# Print shapes\n",
    "print(\"\\nData shapes:\")\n",
    "for k in coef_keys:\n",
    "    if all_coefs[k] is not None:\n",
    "        print(f\"{k} shape: {all_coefs[k].shape}\")\n",
    "    else:\n",
    "        print(f\"{k}: No valid data\")\n",
    "\n",
    "# Calculate and print statistics\n",
    "print(\"\\nCoefficient statistics:\")\n",
    "for k in coef_keys:\n",
    "    if all_coefs[k] is not None:\n",
    "        print(f\"\\n{k}:\")\n",
    "        print(f\"  Mean: {all_coefs[k].mean().item():.4f}\")\n",
    "        print(f\"  Std: {all_coefs[k].std().item():.4f}\")\n",
    "        print(f\"  Min: {all_coefs[k].min().item():.4f}\")\n",
    "        print(f\"  Max: {all_coefs[k].max().item():.4f}\")\n",
    "    else:\n",
    "        print(f\"\\n{k}: No valid data for statistics\")\n",
    "\n",
    "# Uncomment the following lines if you want to process audio data\n",
    "# all_audio = torch.cat(all_audio, dim=0)\n",
    "# print(\"\\nAudio shape:\", all_audio.shape)\n",
    "# print(\"\\nAudio statistics:\")\n",
    "# print(f\"  Mean: {all_audio.mean().item():.4f}\")\n",
    "# print(f\"  Std: {all_audio.std().item():.4f}\")\n",
    "# print(f\"  Min: {all_audio.min().item():.4f}\")\n",
    "# print(f\"  Max: {all_audio.max().item():.4f}\")"
   ]
  },
  {
   "cell_type": "code",
   "execution_count": null,
   "metadata": {},
   "outputs": [],
   "source": [
    "import matplotlib.pyplot as plt\n",
    "import numpy as np\n",
    "\n",
    "# Set up the plots for all three coefficients\n",
    "for coef_key in ['exp', 'shape', 'pose']:\n",
    "    if all_coefs[coef_key] is not None:\n",
    "        coef_data = all_coefs[coef_key]\n",
    "        num_features = coef_data.shape[-1]\n",
    "        \n",
    "        # Calculate grid dimensions\n",
    "        grid_rows = int(np.ceil(np.sqrt(num_features)))\n",
    "        grid_cols = int(np.ceil(num_features / grid_rows))\n",
    "        \n",
    "        plt.figure(figsize=(20, 15))\n",
    "        \n",
    "        for feat_idx in range(num_features):\n",
    "            # Extract the current feature dimension\n",
    "            feature = coef_data[..., feat_idx].flatten()\n",
    "            \n",
    "            # Create a subplot for each feature\n",
    "            plt.subplot(grid_rows, grid_cols, feat_idx + 1)\n",
    "            \n",
    "            # Plot the histogram\n",
    "            plt.hist(feature.numpy(), bins=50, edgecolor='black')\n",
    "            \n",
    "            # Set title and labels\n",
    "            plt.title(f'{coef_key.capitalize()} Feature {feat_idx + 1}')\n",
    "            plt.xlabel('Value')\n",
    "            plt.ylabel('Frequency')\n",
    "            \n",
    "            # Add some statistics to the plot\n",
    "            plt.text(0.05, 0.95, f'Mean: {feature.mean():.4f}\\nStd: {feature.std():.4f}', \n",
    "                     transform=plt.gca().transAxes, verticalalignment='top', fontsize=8)\n",
    "\n",
    "        # Adjust the layout and display the plot\n",
    "        plt.suptitle(f'Histogram of {coef_key.capitalize()} Coefficient Features', fontsize=16)\n",
    "        plt.tight_layout(rect=[0, 0.03, 1, 0.95])\n",
    "        plt.show()\n",
    "    else:\n",
    "        print(f\"No valid data for '{coef_key}' coefficient\")\n"
   ]
  },
  {
   "cell_type": "code",
   "execution_count": null,
   "metadata": {},
   "outputs": [],
   "source": []
  }
 ],
 "metadata": {
  "kernelspec": {
   "display_name": "vasa_env",
   "language": "python",
   "name": "python3"
  },
  "language_info": {
   "codemirror_mode": {
    "name": "ipython",
    "version": 3
   },
   "file_extension": ".py",
   "mimetype": "text/x-python",
   "name": "python",
   "nbconvert_exporter": "python",
   "pygments_lexer": "ipython3",
   "version": "3.10.13"
  }
 },
 "nbformat": 4,
 "nbformat_minor": 2
}
