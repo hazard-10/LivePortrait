{
 "cells": [
  {
   "cell_type": "code",
   "execution_count": null,
   "metadata": {},
   "outputs": [],
   "source": [
    "import librosa\n",
    "import torch\n",
    "from transformers import Wav2Vec2FeatureExtractor, Wav2Vec2Model\n",
    "import torch\n",
    "import librosa\n",
    "from transformers import Wav2Vec2Processor, Wav2Vec2Model\n"
   ]
  },
  {
   "cell_type": "code",
   "execution_count": null,
   "metadata": {},
   "outputs": [],
   "source": [
    "audio_1= '/mnt/c/Users/mjh/Downloads/00059.wav'\n",
    "audio_2= '/mnt/c/Users/mjh/Downloads/00037.wav'"
   ]
  },
  {
   "cell_type": "code",
   "execution_count": null,
   "metadata": {},
   "outputs": [],
   "source": [
    "import numpy as np\n",
    "\n",
    "# Load slightly more than 3 seconds of audio\n",
    "duration = 3 * (16027 / 16000)\n",
    "input_audio, sample_rate = librosa.load(audio_1, sr=16000, duration=duration)\n",
    "\n",
    "# Ensure the audio is exactly 48081 samples (3 * 16027)\n",
    "target_length = 3 * 16027\n",
    "if len(input_audio) < target_length:\n",
    "    input_audio = np.pad(input_audio, (0, target_length - len(input_audio)))\n",
    "elif len(input_audio) > target_length:\n",
    "    input_audio = input_audio[:target_length]\n",
    "\n",
    "model_name = \"facebook/wav2vec2-large-xlsr-53\"\n",
    "feature_extractor = Wav2Vec2FeatureExtractor.from_pretrained(model_name)\n",
    "model = Wav2Vec2Model.from_pretrained(model_name)\n",
    "\n",
    "i = feature_extractor(input_audio, return_tensors=\"pt\", sampling_rate=sample_rate)\n",
    "with torch.no_grad():\n",
    "    o = model(i.input_values)\n",
    "print(o.keys())\n",
    "print(o.last_hidden_state.shape)\n",
    "print(o.extract_features.shape)"
   ]
  },
  {
   "cell_type": "code",
   "execution_count": null,
   "metadata": {},
   "outputs": [],
   "source": [
    "\n",
    "# Load slightly more than 3 seconds of audio\n",
    "duration = 3 * (16027 / 16000)\n",
    "input_audio, sample_rate = librosa.load(audio_1, sr=16000, duration=duration)\n",
    "\n",
    "# Ensure the audio is exactly 48081 samples (3 * 16027)\n",
    "target_length = 3 * 16020\n",
    "if len(input_audio) < target_length:\n",
    "    input_audio = np.pad(input_audio, (0, target_length - len(input_audio)))\n",
    "elif len(input_audio) > target_length:\n",
    "    input_audio = input_audio[:target_length]\n",
    "# If your audio is longer than N seconds, you can trim it\n",
    "\n",
    "# Convert the audio to a tensor\n",
    "audio_tensor = torch.tensor(input_audio)\n"
   ]
  },
  {
   "cell_type": "code",
   "execution_count": null,
   "metadata": {},
   "outputs": [],
   "source": [
    "# Load the processor and model from Hugging Face\n",
    "processor = Wav2Vec2Processor.from_pretrained(\"facebook/wav2vec2-base-960h\")\n",
    "model = Wav2Vec2Model.from_pretrained(\"facebook/wav2vec2-base-960h\")\n"
   ]
  },
  {
   "cell_type": "code",
   "execution_count": null,
   "metadata": {},
   "outputs": [],
   "source": [
    "# Preprocess the audio (normalization, etc.)\n",
    "inputs = processor(audio_tensor, sampling_rate=16000, return_tensors=\"pt\")\n",
    "\n",
    "# Pass the inputs through the model to obtain the hidden states\n",
    "with torch.no_grad():\n",
    "    outputs = model(**inputs)\n",
    "\n",
    "# Extract the encoded features (hidden states)\n",
    "# Depending on the task, you might use last_hidden_state or extract other hidden states\n",
    "encoded_audio = outputs.last_hidden_state  # shape: (batch_size, sequence_length, hidden_size)\n"
   ]
  },
  {
   "cell_type": "code",
   "execution_count": null,
   "metadata": {},
   "outputs": [],
   "source": [
    "print(encoded_audio.shape)"
   ]
  },
  {
   "cell_type": "code",
   "execution_count": null,
   "metadata": {},
   "outputs": [],
   "source": [
    "import numpy as np\n",
    "\n",
    "# Load audio latent\n",
    "audio_latent = np.load('/mnt/e/data/diffposetalk_data/TFHP_raw/train_split/live_latent/TH_00000/000.npy')\n",
    "print(\"Audio latent shape:\", audio_latent.shape)\n"
   ]
  }
 ],
 "metadata": {
  "kernelspec": {
   "display_name": "vasa_env",
   "language": "python",
   "name": "python3"
  },
  "language_info": {
   "codemirror_mode": {
    "name": "ipython",
    "version": 3
   },
   "file_extension": ".py",
   "mimetype": "text/x-python",
   "name": "python",
   "nbconvert_exporter": "python",
   "pygments_lexer": "ipython3",
   "version": "3.10.13"
  }
 },
 "nbformat": 4,
 "nbformat_minor": 2
}
